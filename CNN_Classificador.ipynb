{
  "cells": [
    {
      "cell_type": "markdown",
      "metadata": {
        "id": "view-in-github",
        "colab_type": "text"
      },
      "source": [
        "<a href=\"https://colab.research.google.com/github/fhfmendes04/face_recognition_4models/blob/main/CNN_Classificador.ipynb\" target=\"_parent\"><img src=\"https://colab.research.google.com/assets/colab-badge.svg\" alt=\"Open In Colab\"/></a>"
      ]
    },
    {
      "cell_type": "code",
      "execution_count": 1,
      "metadata": {
        "id": "0jNKeNAIcwEN"
      },
      "outputs": [],
      "source": [
        "import numpy as np\n",
        "import pandas as pd\n",
        "import matplotlib.pyplot as plt\n",
        "from tensorflow import keras\n",
        "from sklearn.preprocessing import StandardScaler\n",
        "import tensorflow as tf\n",
        "import cv2\n",
        "from PIL import Image\n",
        "from skimage import data, exposure\n",
        "from skimage.feature import hog,local_binary_pattern\n",
        "from sklearn.decomposition import PCA\n",
        "from sklearn.metrics import classification_report\n",
        "from sklearn.model_selection import train_test_split\n",
        "\n",
        "from sklearn.ensemble import RandomForestClassifier\n",
        "from sklearn.neighbors import KNeighborsClassifier\n",
        "from sklearn.linear_model import LogisticRegression\n",
        "\n",
        "#from Models import ANN, Multinomial_LogReg\n",
        "\n",
        "import warnings\n",
        "warnings.filterwarnings('ignore')\n",
        "\n",
        "from tqdm import tqdm"
      ]
    },
    {
      "cell_type": "code",
      "execution_count": 2,
      "metadata": {
        "colab": {
          "base_uri": "https://localhost:8080/"
        },
        "id": "YTZLVvn_cs3U",
        "outputId": "a6ea246c-12d7-499f-f4e2-825ff2ee27dd"
      },
      "outputs": [
        {
          "output_type": "stream",
          "name": "stdout",
          "text": [
            "downloading Olivetti faces from https://ndownloader.figshare.com/files/5976027 to /root/scikit_learn_data\n"
          ]
        }
      ],
      "source": [
        "from sklearn.datasets import fetch_olivetti_faces\n",
        "dataset = fetch_olivetti_faces(random_state=42)"
      ]
    },
    {
      "cell_type": "code",
      "execution_count": 3,
      "metadata": {
        "id": "tBSAH3Q7j6UQ"
      },
      "outputs": [],
      "source": [
        "X = dataset.images\n",
        "y = dataset.target"
      ]
    },
    {
      "cell_type": "code",
      "source": [
        "from collections import Counter \n",
        "d = Counter(y)\n",
        "print(\"Quantidade de pessoas:\",len(d))\n",
        "print(d)"
      ],
      "metadata": {
        "colab": {
          "base_uri": "https://localhost:8080/"
        },
        "id": "vjPFrNYDxNil",
        "outputId": "0c857a22-8e2f-4d48-ca6b-b3025a645647"
      },
      "execution_count": 4,
      "outputs": [
        {
          "output_type": "stream",
          "name": "stdout",
          "text": [
            "Quantidade de pessoas: 40\n",
            "Counter({0: 10, 1: 10, 2: 10, 3: 10, 4: 10, 5: 10, 6: 10, 7: 10, 8: 10, 9: 10, 10: 10, 11: 10, 12: 10, 13: 10, 14: 10, 15: 10, 16: 10, 17: 10, 18: 10, 19: 10, 20: 10, 21: 10, 22: 10, 23: 10, 24: 10, 25: 10, 26: 10, 27: 10, 28: 10, 29: 10, 30: 10, 31: 10, 32: 10, 33: 10, 34: 10, 35: 10, 36: 10, 37: 10, 38: 10, 39: 10})\n"
          ]
        }
      ]
    },
    {
      "cell_type": "markdown",
      "source": [
        "# Entrada(imagem) e saída(one-hot) da CNN."
      ],
      "metadata": {
        "id": "nFXtEbSYkFoR"
      }
    },
    {
      "cell_type": "code",
      "source": [
        "def lbp_features(X): \n",
        "    METHOD = 'uniform'\n",
        "    radius = 1\n",
        "    n_points = 10\n",
        "    fd_list = []\n",
        "    for row in X:\n",
        "        lbp_image = local_binary_pattern(row, n_points, radius, METHOD)\n",
        "        fd_list.append(lbp_image)\n",
        "    \n",
        "    return np.array(fd_list)"
      ],
      "metadata": {
        "id": "D26GhWGhUJ-I"
      },
      "execution_count": 5,
      "outputs": []
    },
    {
      "cell_type": "code",
      "source": [
        "image_lbp= lbp_features(X)\n",
        "print(image_lbp.shape)"
      ],
      "metadata": {
        "colab": {
          "base_uri": "https://localhost:8080/"
        },
        "id": "YL09Xx2yUNQW",
        "outputId": "750ab743-8124-421c-cd54-205ed8015a32"
      },
      "execution_count": 6,
      "outputs": [
        {
          "output_type": "stream",
          "name": "stdout",
          "text": [
            "(400, 64, 64)\n"
          ]
        }
      ]
    },
    {
      "cell_type": "code",
      "source": [
        "def hog_features(X): #====>>>>>>Usei segunda saída da funcção que é uma imagem e não a primeira saída da função.\n",
        "    fd_list = []\n",
        "    for row in X:\n",
        "        _, hog_image = hog(row, orientations=2, pixels_per_cell=(4, 4), cells_per_block=(4, 4), visualize=True)\n",
        "        fd_list.append(hog_image)\n",
        "    \n",
        "    return np.array(fd_list)"
      ],
      "metadata": {
        "id": "_r6KNGxhUNcf"
      },
      "execution_count": 7,
      "outputs": []
    },
    {
      "cell_type": "code",
      "source": [
        "image_hog = hog_features(X)\n",
        "print(image_hog.shape)"
      ],
      "metadata": {
        "colab": {
          "base_uri": "https://localhost:8080/"
        },
        "id": "ZdJVVvJDUVup",
        "outputId": "f8c5f746-3363-410d-e58b-7972e217ac45"
      },
      "execution_count": 8,
      "outputs": [
        {
          "output_type": "stream",
          "name": "stdout",
          "text": [
            "(400, 64, 64)\n"
          ]
        }
      ]
    },
    {
      "cell_type": "code",
      "source": [
        "print(\"HOG:\",image_hog.max(), image_hog.min())\n",
        "print(\"LBP:\", image_lbp.max(), image_lbp.min())\n",
        "\n",
        "# Não precisei normalizar."
      ],
      "metadata": {
        "colab": {
          "base_uri": "https://localhost:8080/"
        },
        "id": "tLWe57YxVf5v",
        "outputId": "23d8559d-637e-4f53-ee6c-80b77f941048"
      },
      "execution_count": 9,
      "outputs": [
        {
          "output_type": "stream",
          "name": "stdout",
          "text": [
            "HOG: 0.41988638043403625 0.0\n",
            "LBP: 11.0 0.0\n"
          ]
        }
      ]
    },
    {
      "cell_type": "code",
      "source": [
        "# transformar categorias em one-hot-encoding: Saída\n",
        "saida = y.max()+1\n",
        "print(\"Quantidade de pessoas:\",saida)\n",
        "target = keras.utils.to_categorical(y, saida)"
      ],
      "metadata": {
        "colab": {
          "base_uri": "https://localhost:8080/"
        },
        "id": "ppRmbSEhydjE",
        "outputId": "4d37b041-fb3d-4efd-8bd3-24c689ad3cc3"
      },
      "execution_count": 43,
      "outputs": [
        {
          "output_type": "stream",
          "name": "stdout",
          "text": [
            "Quantidade de pessoas: 40\n"
          ]
        }
      ]
    },
    {
      "cell_type": "markdown",
      "source": [
        "# CNN\n"
      ],
      "metadata": {
        "id": "kHUe_NubAK32"
      }
    },
    {
      "cell_type": "markdown",
      "source": [
        "## LBP"
      ],
      "metadata": {
        "id": "LsgIlsG_h7Ro"
      }
    },
    {
      "cell_type": "code",
      "source": [
        "x_train, x_test, y_train, y_test = train_test_split(image_lbp, target, test_size=0.30, random_state=42,stratify=target)"
      ],
      "metadata": {
        "id": "jE3CTGhzydmV"
      },
      "execution_count": 13,
      "outputs": []
    },
    {
      "cell_type": "code",
      "source": [
        "x_train.shape, y_train.shape, x_test.shape, y_test.shape"
      ],
      "metadata": {
        "colab": {
          "base_uri": "https://localhost:8080/"
        },
        "id": "r6yj6V9DAZa4",
        "outputId": "0ceaa359-ef52-4e9a-a9e6-dc50271817bb"
      },
      "execution_count": 14,
      "outputs": [
        {
          "output_type": "execute_result",
          "data": {
            "text/plain": [
              "((280, 64, 64), (280, 40), (120, 64, 64), (120, 40))"
            ]
          },
          "metadata": {},
          "execution_count": 14
        }
      ]
    },
    {
      "cell_type": "code",
      "source": [
        "# obtendo informações das imagens (resolucao) e dos rótulos (número de classes)\n",
        "# não usar no HOG\n",
        "img_lin, img_col = x_train.shape[1], x_train.shape[2]\n",
        "num_classes = len(np.unique(y_train))\n",
        "print(x_train.shape)"
      ],
      "metadata": {
        "colab": {
          "base_uri": "https://localhost:8080/"
        },
        "id": "EF7T6soUAZcD",
        "outputId": "5e9542c5-09f7-4921-ab7a-02249d31c702"
      },
      "execution_count": 15,
      "outputs": [
        {
          "output_type": "stream",
          "name": "stdout",
          "text": [
            "(280, 64, 64)\n"
          ]
        }
      ]
    },
    {
      "cell_type": "code",
      "source": [
        "# verifica imagens da base de dados tem 3 canais (RGB) ou apenas 1 (escala de cinza)\n",
        "\n",
        "if (len(x_train.shape) == 3):\n",
        "      n_channels = 1\n",
        "else:\n",
        "      n_channels = x_train.shape[3]\n",
        "\n",
        "# re-formata o array de forma a encontrar o formato da entrada (input_shape)\n",
        "# se a dimensão dos canais vem primeiro ou após a imagem\n",
        "if keras.backend.image_data_format() == 'channels_first':\n",
        "    x_train = x_train.reshape(x_train.shape[0], n_channels, img_lin, img_col)\n",
        "    x_test = x_test.reshape(x_test.shape[0], n_channels, img_lin, img_col)\n",
        "    input_shape = (n_channels, img_lin, img_col)\n",
        "else:\n",
        "    x_train = x_train.reshape(x_train.shape[0], img_lin, img_col, n_channels)\n",
        "    x_test = x_test.reshape(x_test.shape[0], img_lin, img_col, n_channels)\n",
        "    input_shape = (img_lin, img_col, n_channels)\n",
        "\n",
        "print(\"Shape: \", input_shape)"
      ],
      "metadata": {
        "colab": {
          "base_uri": "https://localhost:8080/"
        },
        "id": "THbYgT4YAZdS",
        "outputId": "666d75af-f594-4397-f00a-45f835a809dc"
      },
      "execution_count": 16,
      "outputs": [
        {
          "output_type": "stream",
          "name": "stdout",
          "text": [
            "Shape:  (64, 64, 1)\n"
          ]
        }
      ]
    },
    {
      "cell_type": "code",
      "source": [
        "model = tf.keras.models.Sequential()\n",
        "\n",
        "model.add(tf.keras.layers.Conv2D(filters=256, kernel_size=(3, 3), activation='relu', use_bias=True, padding='same', input_shape=input_shape))\n",
        "model.add(tf.keras.layers.Conv2D(filters=128, kernel_size=(3,3), activation='relu', use_bias=True, padding='same'))\n",
        "model.add(tf.keras.layers.Conv2D(filters=128, kernel_size=(3, 3), activation='relu', use_bias=True, strides=(4,4), padding='same'))\n",
        "model.add(tf.keras.layers.Conv2D(filters=128, kernel_size=(3,3), activation='relu', use_bias=True, padding='same'))\n",
        "model.add(tf.keras.layers.Conv2D(filters=256, kernel_size=(3, 3), activation='relu', use_bias=True, padding='same'))\n",
        "model.add(tf.keras.layers.Conv2D(filters=256, kernel_size=(3, 3), activation='relu', use_bias=True, strides=(2,2), padding='same'))\n",
        "model.add(tf.keras.layers.Flatten())\n",
        "model.add(tf.keras.layers.Dense(1024, activation='relu'))\n",
        "model.add(keras.layers.Dropout(0.2))\n",
        "model.add(tf.keras.layers.Dense(512, activation='relu'))\n",
        "model.add(keras.layers.Dropout(0.2))\n",
        "model.add(tf.keras.layers.Dense(216, activation='relu'))\n",
        "model.add(keras.layers.Dropout(0.2))\n",
        "model.add(tf.keras.layers.Dense(saida, activation='softmax'))\n",
        "\n",
        "model.summary()\n",
        "\n",
        "# Para diminuir o overfitting aumenta a porcentagem do dropout"
      ],
      "metadata": {
        "colab": {
          "base_uri": "https://localhost:8080/"
        },
        "id": "L1Keu00-XTCP",
        "outputId": "275c8b75-ee93-4d13-ddc9-4ebaae049921"
      },
      "execution_count": 36,
      "outputs": [
        {
          "output_type": "stream",
          "name": "stdout",
          "text": [
            "Model: \"sequential_4\"\n",
            "_________________________________________________________________\n",
            " Layer (type)                Output Shape              Param #   \n",
            "=================================================================\n",
            " conv2d_24 (Conv2D)          (None, 64, 64, 256)       2560      \n",
            "                                                                 \n",
            " conv2d_25 (Conv2D)          (None, 64, 64, 128)       295040    \n",
            "                                                                 \n",
            " conv2d_26 (Conv2D)          (None, 16, 16, 128)       147584    \n",
            "                                                                 \n",
            " conv2d_27 (Conv2D)          (None, 16, 16, 128)       147584    \n",
            "                                                                 \n",
            " conv2d_28 (Conv2D)          (None, 16, 16, 256)       295168    \n",
            "                                                                 \n",
            " conv2d_29 (Conv2D)          (None, 8, 8, 256)         590080    \n",
            "                                                                 \n",
            " flatten_4 (Flatten)         (None, 16384)             0         \n",
            "                                                                 \n",
            " dense_16 (Dense)            (None, 1024)              16778240  \n",
            "                                                                 \n",
            " dropout_12 (Dropout)        (None, 1024)              0         \n",
            "                                                                 \n",
            " dense_17 (Dense)            (None, 512)               524800    \n",
            "                                                                 \n",
            " dropout_13 (Dropout)        (None, 512)               0         \n",
            "                                                                 \n",
            " dense_18 (Dense)            (None, 216)               110808    \n",
            "                                                                 \n",
            " dropout_14 (Dropout)        (None, 216)               0         \n",
            "                                                                 \n",
            " dense_19 (Dense)            (None, 40)                8680      \n",
            "                                                                 \n",
            "=================================================================\n",
            "Total params: 18,900,544\n",
            "Trainable params: 18,900,544\n",
            "Non-trainable params: 0\n",
            "_________________________________________________________________\n"
          ]
        }
      ]
    },
    {
      "cell_type": "code",
      "source": [
        "# as sementes ajudam a ter resultados reproduzíveis\n",
        "from numpy.random import seed\n",
        "seed(42)\n",
        "from tensorflow.random import set_seed\n",
        "set_seed(42)\n",
        "\n",
        "model.compile(loss='categorical_crossentropy',\n",
        "              optimizer=keras.optimizers.Adam(),\n",
        "               metrics=['categorical_accuracy'])\n",
        "\n",
        "# vamos usar o mesmo número de épocas e batchsize para ambos\n",
        "batch_size = 100\n",
        "epochs = 1000"
      ],
      "metadata": {
        "id": "LIQNAyRDXTyv"
      },
      "execution_count": 37,
      "outputs": []
    },
    {
      "cell_type": "code",
      "source": [
        "callback = tf.keras.callbacks.EarlyStopping(monitor='val_loss', patience=75) # Parada\n",
        "\n",
        "hist_model = model.fit(x_train, y_train,\n",
        "                    batch_size=batch_size,\n",
        "                    validation_split=0.1,\n",
        "                    use_multiprocessing= True,\n",
        "                    callbacks=[callback],\n",
        "                    epochs=epochs, \n",
        "                    verbose=1)"
      ],
      "metadata": {
        "colab": {
          "base_uri": "https://localhost:8080/"
        },
        "id": "XZsnnFq6XT2H",
        "outputId": "1d2f5f41-df62-4eea-9e0e-f0a6fa5f808d"
      },
      "execution_count": 38,
      "outputs": [
        {
          "output_type": "stream",
          "name": "stdout",
          "text": [
            "Epoch 1/1000\n",
            "3/3 [==============================] - 1s 220ms/step - loss: 3.9985 - categorical_accuracy: 0.0159 - val_loss: 3.6991 - val_categorical_accuracy: 0.0000e+00\n",
            "Epoch 2/1000\n",
            "3/3 [==============================] - 0s 125ms/step - loss: 3.6899 - categorical_accuracy: 0.0278 - val_loss: 3.7264 - val_categorical_accuracy: 0.0000e+00\n",
            "Epoch 3/1000\n",
            "3/3 [==============================] - 0s 125ms/step - loss: 3.6930 - categorical_accuracy: 0.0238 - val_loss: 3.7206 - val_categorical_accuracy: 0.0000e+00\n",
            "Epoch 4/1000\n",
            "3/3 [==============================] - 0s 126ms/step - loss: 3.6857 - categorical_accuracy: 0.0357 - val_loss: 3.7828 - val_categorical_accuracy: 0.0000e+00\n",
            "Epoch 5/1000\n",
            "3/3 [==============================] - 0s 125ms/step - loss: 3.6948 - categorical_accuracy: 0.0159 - val_loss: 3.7229 - val_categorical_accuracy: 0.0000e+00\n",
            "Epoch 6/1000\n",
            "3/3 [==============================] - 0s 124ms/step - loss: 3.6870 - categorical_accuracy: 0.0198 - val_loss: 3.7046 - val_categorical_accuracy: 0.0000e+00\n",
            "Epoch 7/1000\n",
            "3/3 [==============================] - 0s 125ms/step - loss: 3.6878 - categorical_accuracy: 0.0238 - val_loss: 3.7075 - val_categorical_accuracy: 0.0000e+00\n",
            "Epoch 8/1000\n",
            "3/3 [==============================] - 0s 126ms/step - loss: 3.6867 - categorical_accuracy: 0.0278 - val_loss: 3.7273 - val_categorical_accuracy: 0.0000e+00\n",
            "Epoch 9/1000\n",
            "3/3 [==============================] - 0s 129ms/step - loss: 3.6950 - categorical_accuracy: 0.0119 - val_loss: 3.7478 - val_categorical_accuracy: 0.0000e+00\n",
            "Epoch 10/1000\n",
            "3/3 [==============================] - 0s 125ms/step - loss: 3.6860 - categorical_accuracy: 0.0278 - val_loss: 3.7117 - val_categorical_accuracy: 0.0000e+00\n",
            "Epoch 11/1000\n",
            "3/3 [==============================] - 0s 127ms/step - loss: 3.6877 - categorical_accuracy: 0.0238 - val_loss: 3.7113 - val_categorical_accuracy: 0.0000e+00\n",
            "Epoch 12/1000\n",
            "3/3 [==============================] - 0s 126ms/step - loss: 3.6859 - categorical_accuracy: 0.0397 - val_loss: 3.7134 - val_categorical_accuracy: 0.0000e+00\n",
            "Epoch 13/1000\n",
            "3/3 [==============================] - 0s 125ms/step - loss: 3.6859 - categorical_accuracy: 0.0516 - val_loss: 3.7200 - val_categorical_accuracy: 0.0000e+00\n",
            "Epoch 14/1000\n",
            "3/3 [==============================] - 0s 127ms/step - loss: 3.6858 - categorical_accuracy: 0.0119 - val_loss: 3.7871 - val_categorical_accuracy: 0.0000e+00\n",
            "Epoch 15/1000\n",
            "3/3 [==============================] - 0s 126ms/step - loss: 3.6939 - categorical_accuracy: 0.0159 - val_loss: 3.7532 - val_categorical_accuracy: 0.0000e+00\n",
            "Epoch 16/1000\n",
            "3/3 [==============================] - 0s 124ms/step - loss: 3.6858 - categorical_accuracy: 0.0238 - val_loss: 3.7218 - val_categorical_accuracy: 0.0000e+00\n",
            "Epoch 17/1000\n",
            "3/3 [==============================] - 0s 126ms/step - loss: 3.6857 - categorical_accuracy: 0.0476 - val_loss: 3.7199 - val_categorical_accuracy: 0.0000e+00\n",
            "Epoch 18/1000\n",
            "3/3 [==============================] - 0s 126ms/step - loss: 3.6864 - categorical_accuracy: 0.0357 - val_loss: 3.7218 - val_categorical_accuracy: 0.0000e+00\n",
            "Epoch 19/1000\n",
            "3/3 [==============================] - 0s 126ms/step - loss: 3.6855 - categorical_accuracy: 0.0437 - val_loss: 3.7256 - val_categorical_accuracy: 0.0000e+00\n",
            "Epoch 20/1000\n",
            "3/3 [==============================] - 0s 126ms/step - loss: 3.6855 - categorical_accuracy: 0.0159 - val_loss: 3.7337 - val_categorical_accuracy: 0.0000e+00\n",
            "Epoch 21/1000\n",
            "3/3 [==============================] - 0s 128ms/step - loss: 3.6855 - categorical_accuracy: 0.0317 - val_loss: 3.7369 - val_categorical_accuracy: 0.0000e+00\n",
            "Epoch 22/1000\n",
            "3/3 [==============================] - 0s 124ms/step - loss: 3.6854 - categorical_accuracy: 0.0357 - val_loss: 3.7508 - val_categorical_accuracy: 0.0000e+00\n",
            "Epoch 23/1000\n",
            "3/3 [==============================] - 0s 124ms/step - loss: 3.6853 - categorical_accuracy: 0.0238 - val_loss: 3.7699 - val_categorical_accuracy: 0.0000e+00\n",
            "Epoch 24/1000\n",
            "3/3 [==============================] - 0s 125ms/step - loss: 3.6871 - categorical_accuracy: 0.0357 - val_loss: 3.7680 - val_categorical_accuracy: 0.0000e+00\n",
            "Epoch 25/1000\n",
            "3/3 [==============================] - 0s 127ms/step - loss: 3.6852 - categorical_accuracy: 0.0159 - val_loss: 3.7516 - val_categorical_accuracy: 0.0000e+00\n",
            "Epoch 26/1000\n",
            "3/3 [==============================] - 0s 125ms/step - loss: 3.6823 - categorical_accuracy: 0.0238 - val_loss: 3.7520 - val_categorical_accuracy: 0.0000e+00\n",
            "Epoch 27/1000\n",
            "3/3 [==============================] - 0s 125ms/step - loss: 3.6855 - categorical_accuracy: 0.0198 - val_loss: 3.7491 - val_categorical_accuracy: 0.0000e+00\n",
            "Epoch 28/1000\n",
            "3/3 [==============================] - 0s 125ms/step - loss: 3.6870 - categorical_accuracy: 0.0278 - val_loss: 3.7511 - val_categorical_accuracy: 0.0000e+00\n",
            "Epoch 29/1000\n",
            "3/3 [==============================] - 0s 127ms/step - loss: 3.6823 - categorical_accuracy: 0.0278 - val_loss: 3.7568 - val_categorical_accuracy: 0.0000e+00\n",
            "Epoch 30/1000\n",
            "3/3 [==============================] - 0s 125ms/step - loss: 3.6818 - categorical_accuracy: 0.0397 - val_loss: 3.7823 - val_categorical_accuracy: 0.0000e+00\n",
            "Epoch 31/1000\n",
            "3/3 [==============================] - 0s 125ms/step - loss: 3.6898 - categorical_accuracy: 0.0238 - val_loss: 3.7807 - val_categorical_accuracy: 0.0000e+00\n",
            "Epoch 32/1000\n",
            "3/3 [==============================] - 0s 127ms/step - loss: 3.6791 - categorical_accuracy: 0.0317 - val_loss: 3.7699 - val_categorical_accuracy: 0.0000e+00\n",
            "Epoch 33/1000\n",
            "3/3 [==============================] - 0s 125ms/step - loss: 3.6821 - categorical_accuracy: 0.0238 - val_loss: 3.7699 - val_categorical_accuracy: 0.0000e+00\n",
            "Epoch 34/1000\n",
            "3/3 [==============================] - 0s 125ms/step - loss: 3.6808 - categorical_accuracy: 0.0317 - val_loss: 3.7800 - val_categorical_accuracy: 0.0000e+00\n",
            "Epoch 35/1000\n",
            "3/3 [==============================] - 0s 125ms/step - loss: 3.6811 - categorical_accuracy: 0.0516 - val_loss: 3.8100 - val_categorical_accuracy: 0.0000e+00\n",
            "Epoch 36/1000\n",
            "3/3 [==============================] - 0s 127ms/step - loss: 3.6727 - categorical_accuracy: 0.0437 - val_loss: 3.8289 - val_categorical_accuracy: 0.0000e+00\n",
            "Epoch 37/1000\n",
            "3/3 [==============================] - 0s 125ms/step - loss: 3.6552 - categorical_accuracy: 0.0317 - val_loss: 3.9047 - val_categorical_accuracy: 0.0000e+00\n",
            "Epoch 38/1000\n",
            "3/3 [==============================] - 0s 125ms/step - loss: 3.5905 - categorical_accuracy: 0.0754 - val_loss: 3.7817 - val_categorical_accuracy: 0.0000e+00\n",
            "Epoch 39/1000\n",
            "3/3 [==============================] - 0s 127ms/step - loss: 3.3880 - categorical_accuracy: 0.1429 - val_loss: 3.4925 - val_categorical_accuracy: 0.0357\n",
            "Epoch 40/1000\n",
            "3/3 [==============================] - 0s 126ms/step - loss: 3.0130 - categorical_accuracy: 0.1786 - val_loss: 3.2637 - val_categorical_accuracy: 0.1786\n",
            "Epoch 41/1000\n",
            "3/3 [==============================] - 0s 128ms/step - loss: 2.3304 - categorical_accuracy: 0.3532 - val_loss: 2.9032 - val_categorical_accuracy: 0.2143\n",
            "Epoch 42/1000\n",
            "3/3 [==============================] - 0s 125ms/step - loss: 1.9363 - categorical_accuracy: 0.4524 - val_loss: 2.6711 - val_categorical_accuracy: 0.3214\n",
            "Epoch 43/1000\n",
            "3/3 [==============================] - 0s 126ms/step - loss: 1.2936 - categorical_accuracy: 0.6190 - val_loss: 2.2943 - val_categorical_accuracy: 0.4643\n",
            "Epoch 44/1000\n",
            "3/3 [==============================] - 0s 127ms/step - loss: 0.6968 - categorical_accuracy: 0.7976 - val_loss: 1.4779 - val_categorical_accuracy: 0.6429\n",
            "Epoch 45/1000\n",
            "3/3 [==============================] - 0s 126ms/step - loss: 0.5111 - categorical_accuracy: 0.8135 - val_loss: 2.2172 - val_categorical_accuracy: 0.5714\n",
            "Epoch 46/1000\n",
            "3/3 [==============================] - 0s 129ms/step - loss: 0.2686 - categorical_accuracy: 0.9246 - val_loss: 2.2116 - val_categorical_accuracy: 0.5357\n",
            "Epoch 47/1000\n",
            "3/3 [==============================] - 0s 126ms/step - loss: 0.2376 - categorical_accuracy: 0.9286 - val_loss: 2.0665 - val_categorical_accuracy: 0.5357\n",
            "Epoch 48/1000\n",
            "3/3 [==============================] - 0s 130ms/step - loss: 0.1644 - categorical_accuracy: 0.9603 - val_loss: 1.9428 - val_categorical_accuracy: 0.5000\n",
            "Epoch 49/1000\n",
            "3/3 [==============================] - 0s 129ms/step - loss: 0.1567 - categorical_accuracy: 0.9563 - val_loss: 1.4879 - val_categorical_accuracy: 0.5714\n",
            "Epoch 50/1000\n",
            "3/3 [==============================] - 0s 130ms/step - loss: 0.1451 - categorical_accuracy: 0.9444 - val_loss: 1.1933 - val_categorical_accuracy: 0.7500\n",
            "Epoch 51/1000\n",
            "3/3 [==============================] - 0s 127ms/step - loss: 0.1237 - categorical_accuracy: 0.9444 - val_loss: 1.3646 - val_categorical_accuracy: 0.7143\n",
            "Epoch 52/1000\n",
            "3/3 [==============================] - 0s 126ms/step - loss: 0.0652 - categorical_accuracy: 0.9841 - val_loss: 1.9230 - val_categorical_accuracy: 0.6071\n",
            "Epoch 53/1000\n",
            "3/3 [==============================] - 0s 126ms/step - loss: 0.0641 - categorical_accuracy: 0.9841 - val_loss: 1.8647 - val_categorical_accuracy: 0.6786\n",
            "Epoch 54/1000\n",
            "3/3 [==============================] - 0s 128ms/step - loss: 0.0667 - categorical_accuracy: 0.9841 - val_loss: 2.0243 - val_categorical_accuracy: 0.7143\n",
            "Epoch 55/1000\n",
            "3/3 [==============================] - 0s 127ms/step - loss: 0.1490 - categorical_accuracy: 0.9722 - val_loss: 1.8200 - val_categorical_accuracy: 0.7143\n",
            "Epoch 56/1000\n",
            "3/3 [==============================] - 0s 127ms/step - loss: 0.0474 - categorical_accuracy: 0.9921 - val_loss: 1.7521 - val_categorical_accuracy: 0.6429\n",
            "Epoch 57/1000\n",
            "3/3 [==============================] - 0s 127ms/step - loss: 0.0211 - categorical_accuracy: 0.9921 - val_loss: 1.6914 - val_categorical_accuracy: 0.6429\n",
            "Epoch 58/1000\n",
            "3/3 [==============================] - 0s 127ms/step - loss: 0.0159 - categorical_accuracy: 0.9921 - val_loss: 1.5620 - val_categorical_accuracy: 0.6429\n",
            "Epoch 59/1000\n",
            "3/3 [==============================] - 0s 127ms/step - loss: 0.0235 - categorical_accuracy: 0.9881 - val_loss: 1.2425 - val_categorical_accuracy: 0.7500\n",
            "Epoch 60/1000\n",
            "3/3 [==============================] - 0s 128ms/step - loss: 0.0376 - categorical_accuracy: 0.9881 - val_loss: 1.3615 - val_categorical_accuracy: 0.7143\n",
            "Epoch 61/1000\n",
            "3/3 [==============================] - 0s 129ms/step - loss: 0.0172 - categorical_accuracy: 0.9960 - val_loss: 1.9389 - val_categorical_accuracy: 0.6786\n",
            "Epoch 62/1000\n",
            "3/3 [==============================] - 0s 126ms/step - loss: 0.0306 - categorical_accuracy: 0.9841 - val_loss: 2.0831 - val_categorical_accuracy: 0.6071\n",
            "Epoch 63/1000\n",
            "3/3 [==============================] - 0s 129ms/step - loss: 0.0407 - categorical_accuracy: 0.9881 - val_loss: 1.7480 - val_categorical_accuracy: 0.6429\n",
            "Epoch 64/1000\n",
            "3/3 [==============================] - 0s 130ms/step - loss: 0.0809 - categorical_accuracy: 0.9841 - val_loss: 1.2879 - val_categorical_accuracy: 0.7143\n",
            "Epoch 65/1000\n",
            "3/3 [==============================] - 0s 128ms/step - loss: 0.0136 - categorical_accuracy: 0.9960 - val_loss: 1.3121 - val_categorical_accuracy: 0.7500\n",
            "Epoch 66/1000\n",
            "3/3 [==============================] - 0s 127ms/step - loss: 0.0329 - categorical_accuracy: 0.9960 - val_loss: 1.4461 - val_categorical_accuracy: 0.6786\n",
            "Epoch 67/1000\n",
            "3/3 [==============================] - 0s 128ms/step - loss: 0.0425 - categorical_accuracy: 0.9841 - val_loss: 1.4160 - val_categorical_accuracy: 0.7143\n",
            "Epoch 68/1000\n",
            "3/3 [==============================] - 0s 127ms/step - loss: 0.0352 - categorical_accuracy: 0.9921 - val_loss: 1.5190 - val_categorical_accuracy: 0.7500\n",
            "Epoch 69/1000\n",
            "3/3 [==============================] - 0s 130ms/step - loss: 0.0045 - categorical_accuracy: 1.0000 - val_loss: 1.7723 - val_categorical_accuracy: 0.7857\n",
            "Epoch 70/1000\n",
            "3/3 [==============================] - 0s 130ms/step - loss: 0.0166 - categorical_accuracy: 0.9960 - val_loss: 1.9605 - val_categorical_accuracy: 0.7143\n",
            "Epoch 71/1000\n",
            "3/3 [==============================] - 0s 127ms/step - loss: 0.0014 - categorical_accuracy: 1.0000 - val_loss: 2.1560 - val_categorical_accuracy: 0.7143\n",
            "Epoch 72/1000\n",
            "3/3 [==============================] - 0s 127ms/step - loss: 0.0137 - categorical_accuracy: 0.9921 - val_loss: 2.4695 - val_categorical_accuracy: 0.6786\n",
            "Epoch 73/1000\n",
            "3/3 [==============================] - 0s 127ms/step - loss: 0.0221 - categorical_accuracy: 0.9960 - val_loss: 2.8529 - val_categorical_accuracy: 0.6786\n",
            "Epoch 74/1000\n",
            "3/3 [==============================] - 0s 127ms/step - loss: 0.0103 - categorical_accuracy: 1.0000 - val_loss: 2.8288 - val_categorical_accuracy: 0.7143\n",
            "Epoch 75/1000\n",
            "3/3 [==============================] - 0s 127ms/step - loss: 0.0253 - categorical_accuracy: 0.9881 - val_loss: 1.9642 - val_categorical_accuracy: 0.7857\n",
            "Epoch 76/1000\n",
            "3/3 [==============================] - 0s 126ms/step - loss: 0.0087 - categorical_accuracy: 0.9960 - val_loss: 1.6750 - val_categorical_accuracy: 0.8214\n",
            "Epoch 77/1000\n",
            "3/3 [==============================] - 0s 128ms/step - loss: 0.0104 - categorical_accuracy: 0.9960 - val_loss: 1.7550 - val_categorical_accuracy: 0.8214\n",
            "Epoch 78/1000\n",
            "3/3 [==============================] - 0s 128ms/step - loss: 0.0043 - categorical_accuracy: 1.0000 - val_loss: 2.0348 - val_categorical_accuracy: 0.7857\n",
            "Epoch 79/1000\n",
            "3/3 [==============================] - 0s 130ms/step - loss: 0.0076 - categorical_accuracy: 0.9960 - val_loss: 2.4507 - val_categorical_accuracy: 0.7143\n",
            "Epoch 80/1000\n",
            "3/3 [==============================] - 0s 130ms/step - loss: 0.0049 - categorical_accuracy: 1.0000 - val_loss: 2.4125 - val_categorical_accuracy: 0.7143\n",
            "Epoch 81/1000\n",
            "3/3 [==============================] - 0s 127ms/step - loss: 0.0482 - categorical_accuracy: 0.9921 - val_loss: 1.4773 - val_categorical_accuracy: 0.7857\n",
            "Epoch 82/1000\n",
            "3/3 [==============================] - 0s 128ms/step - loss: 0.0080 - categorical_accuracy: 1.0000 - val_loss: 1.2942 - val_categorical_accuracy: 0.8214\n",
            "Epoch 83/1000\n",
            "3/3 [==============================] - 0s 130ms/step - loss: 0.0076 - categorical_accuracy: 0.9960 - val_loss: 1.3580 - val_categorical_accuracy: 0.8571\n",
            "Epoch 84/1000\n",
            "3/3 [==============================] - 0s 128ms/step - loss: 0.0064 - categorical_accuracy: 1.0000 - val_loss: 1.7735 - val_categorical_accuracy: 0.6786\n",
            "Epoch 85/1000\n",
            "3/3 [==============================] - 0s 128ms/step - loss: 0.0168 - categorical_accuracy: 0.9960 - val_loss: 2.2271 - val_categorical_accuracy: 0.6786\n",
            "Epoch 86/1000\n",
            "3/3 [==============================] - 0s 129ms/step - loss: 0.0043 - categorical_accuracy: 1.0000 - val_loss: 2.3550 - val_categorical_accuracy: 0.6786\n",
            "Epoch 87/1000\n",
            "3/3 [==============================] - 0s 129ms/step - loss: 0.0211 - categorical_accuracy: 0.9960 - val_loss: 2.2116 - val_categorical_accuracy: 0.7143\n",
            "Epoch 88/1000\n",
            "3/3 [==============================] - 0s 128ms/step - loss: 0.0100 - categorical_accuracy: 0.9960 - val_loss: 2.1433 - val_categorical_accuracy: 0.7500\n",
            "Epoch 89/1000\n",
            "3/3 [==============================] - 0s 128ms/step - loss: 0.0108 - categorical_accuracy: 0.9921 - val_loss: 2.0266 - val_categorical_accuracy: 0.7857\n",
            "Epoch 90/1000\n",
            "3/3 [==============================] - 0s 129ms/step - loss: 0.0011 - categorical_accuracy: 1.0000 - val_loss: 2.0422 - val_categorical_accuracy: 0.7500\n",
            "Epoch 91/1000\n",
            "3/3 [==============================] - 0s 128ms/step - loss: 0.0056 - categorical_accuracy: 0.9960 - val_loss: 2.2310 - val_categorical_accuracy: 0.6786\n",
            "Epoch 92/1000\n",
            "3/3 [==============================] - 0s 130ms/step - loss: 0.0041 - categorical_accuracy: 1.0000 - val_loss: 2.2830 - val_categorical_accuracy: 0.6786\n",
            "Epoch 93/1000\n",
            "3/3 [==============================] - 0s 127ms/step - loss: 3.8991e-04 - categorical_accuracy: 1.0000 - val_loss: 2.2998 - val_categorical_accuracy: 0.6786\n",
            "Epoch 94/1000\n",
            "3/3 [==============================] - 0s 130ms/step - loss: 0.0040 - categorical_accuracy: 1.0000 - val_loss: 2.2666 - val_categorical_accuracy: 0.6786\n",
            "Epoch 95/1000\n",
            "3/3 [==============================] - 0s 128ms/step - loss: 0.0051 - categorical_accuracy: 0.9960 - val_loss: 2.2307 - val_categorical_accuracy: 0.6429\n",
            "Epoch 96/1000\n",
            "3/3 [==============================] - 0s 129ms/step - loss: 9.1911e-05 - categorical_accuracy: 1.0000 - val_loss: 2.2613 - val_categorical_accuracy: 0.6429\n",
            "Epoch 97/1000\n",
            "3/3 [==============================] - 0s 128ms/step - loss: 9.4142e-04 - categorical_accuracy: 1.0000 - val_loss: 2.3035 - val_categorical_accuracy: 0.6429\n",
            "Epoch 98/1000\n",
            "3/3 [==============================] - 0s 130ms/step - loss: 0.0533 - categorical_accuracy: 0.9881 - val_loss: 1.8663 - val_categorical_accuracy: 0.6786\n",
            "Epoch 99/1000\n",
            "3/3 [==============================] - 0s 130ms/step - loss: 6.9721e-04 - categorical_accuracy: 1.0000 - val_loss: 1.3578 - val_categorical_accuracy: 0.7500\n",
            "Epoch 100/1000\n",
            "3/3 [==============================] - 0s 131ms/step - loss: 0.0296 - categorical_accuracy: 0.9921 - val_loss: 1.2986 - val_categorical_accuracy: 0.7143\n",
            "Epoch 101/1000\n",
            "3/3 [==============================] - 0s 128ms/step - loss: 0.0297 - categorical_accuracy: 0.9881 - val_loss: 1.4807 - val_categorical_accuracy: 0.6071\n",
            "Epoch 102/1000\n",
            "3/3 [==============================] - 0s 129ms/step - loss: 0.0119 - categorical_accuracy: 1.0000 - val_loss: 1.8638 - val_categorical_accuracy: 0.6071\n",
            "Epoch 103/1000\n",
            "3/3 [==============================] - 0s 129ms/step - loss: 0.0428 - categorical_accuracy: 0.9921 - val_loss: 1.4484 - val_categorical_accuracy: 0.6786\n",
            "Epoch 104/1000\n",
            "3/3 [==============================] - 0s 129ms/step - loss: 0.0078 - categorical_accuracy: 1.0000 - val_loss: 1.3145 - val_categorical_accuracy: 0.7143\n",
            "Epoch 105/1000\n",
            "3/3 [==============================] - 0s 128ms/step - loss: 0.0050 - categorical_accuracy: 1.0000 - val_loss: 1.3951 - val_categorical_accuracy: 0.7500\n",
            "Epoch 106/1000\n",
            "3/3 [==============================] - 0s 128ms/step - loss: 0.0172 - categorical_accuracy: 0.9921 - val_loss: 1.5167 - val_categorical_accuracy: 0.6786\n",
            "Epoch 107/1000\n",
            "3/3 [==============================] - 0s 128ms/step - loss: 8.6862e-04 - categorical_accuracy: 1.0000 - val_loss: 1.7712 - val_categorical_accuracy: 0.6786\n",
            "Epoch 108/1000\n",
            "3/3 [==============================] - 0s 129ms/step - loss: 0.0010 - categorical_accuracy: 1.0000 - val_loss: 1.9989 - val_categorical_accuracy: 0.6786\n",
            "Epoch 109/1000\n",
            "3/3 [==============================] - 0s 128ms/step - loss: 0.0099 - categorical_accuracy: 0.9960 - val_loss: 1.7740 - val_categorical_accuracy: 0.6786\n",
            "Epoch 110/1000\n",
            "3/3 [==============================] - 0s 128ms/step - loss: 3.7912e-04 - categorical_accuracy: 1.0000 - val_loss: 1.7762 - val_categorical_accuracy: 0.6429\n",
            "Epoch 111/1000\n",
            "3/3 [==============================] - 0s 129ms/step - loss: 0.0116 - categorical_accuracy: 0.9960 - val_loss: 2.0627 - val_categorical_accuracy: 0.6071\n",
            "Epoch 112/1000\n",
            "3/3 [==============================] - 0s 129ms/step - loss: 0.0030 - categorical_accuracy: 1.0000 - val_loss: 2.5114 - val_categorical_accuracy: 0.6071\n",
            "Epoch 113/1000\n",
            "3/3 [==============================] - 0s 129ms/step - loss: 0.0144 - categorical_accuracy: 0.9881 - val_loss: 2.5582 - val_categorical_accuracy: 0.6429\n",
            "Epoch 114/1000\n",
            "3/3 [==============================] - 0s 130ms/step - loss: 0.0034 - categorical_accuracy: 0.9960 - val_loss: 2.4985 - val_categorical_accuracy: 0.6786\n",
            "Epoch 115/1000\n",
            "3/3 [==============================] - 0s 130ms/step - loss: 6.5141e-04 - categorical_accuracy: 1.0000 - val_loss: 2.5876 - val_categorical_accuracy: 0.6429\n",
            "Epoch 116/1000\n",
            "3/3 [==============================] - 0s 130ms/step - loss: 0.0055 - categorical_accuracy: 1.0000 - val_loss: 2.6798 - val_categorical_accuracy: 0.6429\n",
            "Epoch 117/1000\n",
            "3/3 [==============================] - 0s 129ms/step - loss: 0.0018 - categorical_accuracy: 1.0000 - val_loss: 2.7376 - val_categorical_accuracy: 0.6429\n",
            "Epoch 118/1000\n",
            "3/3 [==============================] - 0s 129ms/step - loss: 8.0818e-04 - categorical_accuracy: 1.0000 - val_loss: 2.7578 - val_categorical_accuracy: 0.6786\n",
            "Epoch 119/1000\n",
            "3/3 [==============================] - 0s 130ms/step - loss: 0.0395 - categorical_accuracy: 0.9881 - val_loss: 2.6831 - val_categorical_accuracy: 0.6786\n",
            "Epoch 120/1000\n",
            "3/3 [==============================] - 0s 130ms/step - loss: 0.0016 - categorical_accuracy: 1.0000 - val_loss: 2.8884 - val_categorical_accuracy: 0.6429\n",
            "Epoch 121/1000\n",
            "3/3 [==============================] - 0s 130ms/step - loss: 0.0091 - categorical_accuracy: 0.9960 - val_loss: 3.2535 - val_categorical_accuracy: 0.6071\n",
            "Epoch 122/1000\n",
            "3/3 [==============================] - 0s 129ms/step - loss: 0.0139 - categorical_accuracy: 0.9921 - val_loss: 3.1797 - val_categorical_accuracy: 0.6071\n",
            "Epoch 123/1000\n",
            "3/3 [==============================] - 0s 129ms/step - loss: 0.0053 - categorical_accuracy: 1.0000 - val_loss: 2.7671 - val_categorical_accuracy: 0.6071\n",
            "Epoch 124/1000\n",
            "3/3 [==============================] - 0s 129ms/step - loss: 0.0026 - categorical_accuracy: 1.0000 - val_loss: 2.4098 - val_categorical_accuracy: 0.6429\n",
            "Epoch 125/1000\n",
            "3/3 [==============================] - 0s 130ms/step - loss: 0.0123 - categorical_accuracy: 0.9960 - val_loss: 1.8267 - val_categorical_accuracy: 0.6786\n"
          ]
        }
      ]
    },
    {
      "cell_type": "code",
      "source": [
        "plt.plot(hist_model.history['loss'])\n",
        "plt.plot(hist_model.history['val_loss'])\n",
        "plt.title('Loss')\n",
        "plt.legend([\"CNN - Treinamento\", \"CNN - Validação\"], loc=\"upper center\")"
      ],
      "metadata": {
        "colab": {
          "base_uri": "https://localhost:8080/",
          "height": 298
        },
        "id": "zeKOxAiBXT6K",
        "outputId": "ae45f9d6-9d1c-44c7-c696-de5356ff5ab2"
      },
      "execution_count": 40,
      "outputs": [
        {
          "output_type": "execute_result",
          "data": {
            "text/plain": [
              "<matplotlib.legend.Legend at 0x7fe84fcfc5e0>"
            ]
          },
          "metadata": {},
          "execution_count": 40
        },
        {
          "output_type": "display_data",
          "data": {
            "text/plain": [
              "<Figure size 432x288 with 1 Axes>"
            ],
            "image/png": "[encoded data removed]"
          },
          "metadata": {
            "needs_background": "light"
          }
        }
      ]
    },
    {
      "cell_type": "code",
      "source": [
        "plt.plot(hist_model.history['categorical_accuracy'])\n",
        "plt.plot(hist_model.history['val_categorical_accuracy'])\n",
        "plt.title('Acurácia')\n",
        "plt.legend([\"CNN - Treinamento\", \"CNN - Validação\"], loc=\"lower center\")"
      ],
      "metadata": {
        "colab": {
          "base_uri": "https://localhost:8080/",
          "height": 298
        },
        "id": "lrqXV_eYdLHL",
        "outputId": "6a5485b7-085d-4d4c-dd9b-2bc151045d65"
      },
      "execution_count": 41,
      "outputs": [
        {
          "output_type": "execute_result",
          "data": {
            "text/plain": [
              "<matplotlib.legend.Legend at 0x7fe84fdd7af0>"
            ]
          },
          "metadata": {},
          "execution_count": 41
        },
        {
          "output_type": "display_data",
          "data": {
            "text/plain": [
              "<Figure size 432x288 with 1 Axes>"
            ],
            "image/png": "[encoded data removed]"
          },
          "metadata": {
            "needs_background": "light"
          }
        }
      ]
    },
    {
      "cell_type": "code",
      "source": [
        "print(\"Treinamento:\")\n",
        "score_tr = model.evaluate(x_train, y_train, verbose = 1, batch_size=batch_size)\n",
        "print(\"Teste:\")\n",
        "score_Te = model.evaluate(x_test, y_test, verbose = 1, batch_size=batch_size)"
      ],
      "metadata": {
        "colab": {
          "base_uri": "https://localhost:8080/"
        },
        "id": "DRblk1eSdL-Y",
        "outputId": "a24bfc79-9665-43b9-9550-d89a70d88b53"
      },
      "execution_count": 42,
      "outputs": [
        {
          "output_type": "stream",
          "name": "stdout",
          "text": [
            "Treinamento:\n",
            "3/3 [==============================] - 0s 57ms/step - loss: 0.1827 - categorical_accuracy: 0.9679\n",
            "Teste:\n",
            "2/2 [==============================] - 0s 16ms/step - loss: 1.2427 - categorical_accuracy: 0.8167\n"
          ]
        }
      ]
    },
    {
      "cell_type": "markdown",
      "source": [
        "## HOG"
      ],
      "metadata": {
        "id": "Jg3E2DMAj6w1"
      }
    },
    {
      "cell_type": "code",
      "source": [
        "x_train, x_test, y_train, y_test = train_test_split(image_hog, target, test_size=0.30, random_state=42,stratify=target)"
      ],
      "metadata": {
        "id": "LlZ_thtCdP34"
      },
      "execution_count": 44,
      "outputs": []
    },
    {
      "cell_type": "code",
      "source": [
        "x_train.shape, y_train.shape, x_test.shape, y_test.shape"
      ],
      "metadata": {
        "colab": {
          "base_uri": "https://localhost:8080/"
        },
        "id": "p4iw-oy_kAJ5",
        "outputId": "90ab7355-44dc-4da0-ea04-f37e986fd4b4"
      },
      "execution_count": 45,
      "outputs": [
        {
          "output_type": "execute_result",
          "data": {
            "text/plain": [
              "((280, 64, 64), (280, 40), (120, 64, 64), (120, 40))"
            ]
          },
          "metadata": {},
          "execution_count": 45
        }
      ]
    },
    {
      "cell_type": "code",
      "source": [
        "# obtendo informações das imagens (resolucao) e dos rótulos (número de classes)\n",
        "# não usar no HOG\n",
        "img_lin, img_col = x_train.shape[1], x_train.shape[2]\n",
        "num_classes = len(np.unique(y_train))\n",
        "print(x_train.shape)"
      ],
      "metadata": {
        "colab": {
          "base_uri": "https://localhost:8080/"
        },
        "id": "7_-3DWLgkAM5",
        "outputId": "77893b0d-0451-4bec-bb7c-b1752896ebc1"
      },
      "execution_count": 46,
      "outputs": [
        {
          "output_type": "stream",
          "name": "stdout",
          "text": [
            "(280, 64, 64)\n"
          ]
        }
      ]
    },
    {
      "cell_type": "code",
      "source": [
        "# verifica imagens da base de dados tem 3 canais (RGB) ou apenas 1 (escala de cinza)\n",
        "\n",
        "if (len(x_train.shape) == 3):\n",
        "      n_channels = 1\n",
        "else:\n",
        "      n_channels = x_train.shape[3]\n",
        "\n",
        "# re-formata o array de forma a encontrar o formato da entrada (input_shape)\n",
        "# se a dimensão dos canais vem primeiro ou após a imagem\n",
        "if keras.backend.image_data_format() == 'channels_first':\n",
        "    x_train = x_train.reshape(x_train.shape[0], n_channels, img_lin, img_col)\n",
        "    x_test = x_test.reshape(x_test.shape[0], n_channels, img_lin, img_col)\n",
        "    input_shape = (n_channels, img_lin, img_col)\n",
        "else:\n",
        "    x_train = x_train.reshape(x_train.shape[0], img_lin, img_col, n_channels)\n",
        "    x_test = x_test.reshape(x_test.shape[0], img_lin, img_col, n_channels)\n",
        "    input_shape = (img_lin, img_col, n_channels)\n",
        "\n",
        "print(\"Shape: \", input_shape)"
      ],
      "metadata": {
        "colab": {
          "base_uri": "https://localhost:8080/"
        },
        "id": "ioW476JMkAd7",
        "outputId": "fb15fdc3-3c9a-4e6e-9898-6e5dc8b46431"
      },
      "execution_count": 47,
      "outputs": [
        {
          "output_type": "stream",
          "name": "stdout",
          "text": [
            "Shape:  (64, 64, 1)\n"
          ]
        }
      ]
    },
    {
      "cell_type": "code",
      "source": [
        "model = tf.keras.models.Sequential()\n",
        "\n",
        "model.add(tf.keras.layers.Conv2D(filters=256, kernel_size=(3, 3), activation='relu', use_bias=True, padding='same', input_shape=input_shape))\n",
        "model.add(tf.keras.layers.Conv2D(filters=128, kernel_size=(3,3), activation='relu', use_bias=True, padding='same'))\n",
        "model.add(tf.keras.layers.Conv2D(filters=128, kernel_size=(3, 3), activation='relu', use_bias=True, strides=(4,4), padding='same'))\n",
        "model.add(tf.keras.layers.Conv2D(filters=128, kernel_size=(3,3), activation='relu', use_bias=True, padding='same'))\n",
        "model.add(tf.keras.layers.Conv2D(filters=256, kernel_size=(3, 3), activation='relu', use_bias=True, padding='same'))\n",
        "model.add(tf.keras.layers.Conv2D(filters=256, kernel_size=(3, 3), activation='relu', use_bias=True, strides=(2,2), padding='same'))\n",
        "model.add(tf.keras.layers.Flatten())\n",
        "model.add(tf.keras.layers.Dense(1024, activation='relu'))\n",
        "model.add(keras.layers.Dropout(0.1))\n",
        "model.add(tf.keras.layers.Dense(512, activation='relu'))\n",
        "model.add(keras.layers.Dropout(0.1))\n",
        "model.add(tf.keras.layers.Dense(216, activation='relu'))\n",
        "model.add(keras.layers.Dropout(0.1))\n",
        "model.add(tf.keras.layers.Dense(saida, activation='softmax'))\n",
        "\n",
        "model.summary()\n",
        "\n",
        "# Quando aumentei o Dropout não convergiu."
      ],
      "metadata": {
        "colab": {
          "base_uri": "https://localhost:8080/"
        },
        "id": "ReEJBG5gkAet",
        "outputId": "b6583e82-fe5c-4a70-9171-e4dc26e2d863"
      },
      "execution_count": 61,
      "outputs": [
        {
          "output_type": "stream",
          "name": "stdout",
          "text": [
            "Model: \"sequential_9\"\n",
            "_________________________________________________________________\n",
            " Layer (type)                Output Shape              Param #   \n",
            "=================================================================\n",
            " conv2d_49 (Conv2D)          (None, 64, 64, 256)       2560      \n",
            "                                                                 \n",
            " conv2d_50 (Conv2D)          (None, 64, 64, 128)       295040    \n",
            "                                                                 \n",
            " conv2d_51 (Conv2D)          (None, 16, 16, 128)       147584    \n",
            "                                                                 \n",
            " conv2d_52 (Conv2D)          (None, 16, 16, 128)       147584    \n",
            "                                                                 \n",
            " conv2d_53 (Conv2D)          (None, 16, 16, 256)       295168    \n",
            "                                                                 \n",
            " conv2d_54 (Conv2D)          (None, 8, 8, 256)         590080    \n",
            "                                                                 \n",
            " flatten_8 (Flatten)         (None, 16384)             0         \n",
            "                                                                 \n",
            " dense_32 (Dense)            (None, 1024)              16778240  \n",
            "                                                                 \n",
            " dropout_24 (Dropout)        (None, 1024)              0         \n",
            "                                                                 \n",
            " dense_33 (Dense)            (None, 512)               524800    \n",
            "                                                                 \n",
            " dropout_25 (Dropout)        (None, 512)               0         \n",
            "                                                                 \n",
            " dense_34 (Dense)            (None, 216)               110808    \n",
            "                                                                 \n",
            " dropout_26 (Dropout)        (None, 216)               0         \n",
            "                                                                 \n",
            " dense_35 (Dense)            (None, 40)                8680      \n",
            "                                                                 \n",
            "=================================================================\n",
            "Total params: 18,900,544\n",
            "Trainable params: 18,900,544\n",
            "Non-trainable params: 0\n",
            "_________________________________________________________________\n"
          ]
        }
      ]
    },
    {
      "cell_type": "code",
      "source": [
        "# as sementes ajudam a ter resultados reproduzíveis\n",
        "from numpy.random import seed\n",
        "seed(42)\n",
        "from tensorflow.random import set_seed\n",
        "set_seed(42)\n",
        "\n",
        "model.compile(loss='categorical_crossentropy',\n",
        "              optimizer=keras.optimizers.Adam(),\n",
        "               metrics=['categorical_accuracy'])\n",
        "\n",
        "# vamos usar o mesmo número de épocas e batchsize para ambos\n",
        "batch_size = 100\n",
        "epochs = 1000"
      ],
      "metadata": {
        "id": "oAafSdnSkAfx"
      },
      "execution_count": 62,
      "outputs": []
    },
    {
      "cell_type": "code",
      "source": [
        "callback = tf.keras.callbacks.EarlyStopping(monitor='val_loss', patience=75) # Parada\n",
        "\n",
        "hist_model = model.fit(x_train, y_train,\n",
        "                    batch_size=batch_size,\n",
        "                    validation_split=0.1,\n",
        "                    use_multiprocessing= True,\n",
        "                    callbacks=[callback],\n",
        "                    epochs=epochs, \n",
        "                    verbose=1)"
      ],
      "metadata": {
        "colab": {
          "base_uri": "https://localhost:8080/"
        },
        "id": "xSz5OxhFkAhD",
        "outputId": "f903a69d-14ee-4cad-b739-017a08f76de8"
      },
      "execution_count": 63,
      "outputs": [
        {
          "output_type": "stream",
          "name": "stdout",
          "text": [
            "Epoch 1/1000\n",
            "3/3 [==============================] - 1s 209ms/step - loss: 3.6901 - categorical_accuracy: 0.0119 - val_loss: 3.6950 - val_categorical_accuracy: 0.0000e+00\n",
            "Epoch 2/1000\n",
            "3/3 [==============================] - 0s 128ms/step - loss: 3.6889 - categorical_accuracy: 0.0357 - val_loss: 3.7018 - val_categorical_accuracy: 0.0000e+00\n",
            "Epoch 3/1000\n",
            "3/3 [==============================] - 0s 126ms/step - loss: 3.6880 - categorical_accuracy: 0.0238 - val_loss: 3.7148 - val_categorical_accuracy: 0.0000e+00\n",
            "Epoch 4/1000\n",
            "3/3 [==============================] - 0s 126ms/step - loss: 3.6878 - categorical_accuracy: 0.0317 - val_loss: 3.7341 - val_categorical_accuracy: 0.0000e+00\n",
            "Epoch 5/1000\n",
            "3/3 [==============================] - 0s 125ms/step - loss: 3.6865 - categorical_accuracy: 0.0079 - val_loss: 3.7276 - val_categorical_accuracy: 0.0000e+00\n",
            "Epoch 6/1000\n",
            "3/3 [==============================] - 0s 128ms/step - loss: 3.6870 - categorical_accuracy: 0.0040 - val_loss: 3.7318 - val_categorical_accuracy: 0.0000e+00\n",
            "Epoch 7/1000\n",
            "3/3 [==============================] - 0s 125ms/step - loss: 3.6862 - categorical_accuracy: 0.0238 - val_loss: 3.7331 - val_categorical_accuracy: 0.0000e+00\n",
            "Epoch 8/1000\n",
            "3/3 [==============================] - 0s 127ms/step - loss: 3.6852 - categorical_accuracy: 0.0317 - val_loss: 3.7458 - val_categorical_accuracy: 0.0000e+00\n",
            "Epoch 9/1000\n",
            "3/3 [==============================] - 0s 127ms/step - loss: 3.6866 - categorical_accuracy: 0.0278 - val_loss: 3.7689 - val_categorical_accuracy: 0.0000e+00\n",
            "Epoch 10/1000\n",
            "3/3 [==============================] - 0s 128ms/step - loss: 3.6837 - categorical_accuracy: 0.0357 - val_loss: 3.7692 - val_categorical_accuracy: 0.0000e+00\n",
            "Epoch 11/1000\n",
            "3/3 [==============================] - 0s 126ms/step - loss: 3.6849 - categorical_accuracy: 0.0357 - val_loss: 3.7721 - val_categorical_accuracy: 0.0000e+00\n",
            "Epoch 12/1000\n",
            "3/3 [==============================] - 0s 127ms/step - loss: 3.6824 - categorical_accuracy: 0.0278 - val_loss: 3.7726 - val_categorical_accuracy: 0.0000e+00\n",
            "Epoch 13/1000\n",
            "3/3 [==============================] - 0s 127ms/step - loss: 3.6842 - categorical_accuracy: 0.0238 - val_loss: 3.7673 - val_categorical_accuracy: 0.0000e+00\n",
            "Epoch 14/1000\n",
            "3/3 [==============================] - 0s 128ms/step - loss: 3.6833 - categorical_accuracy: 0.0119 - val_loss: 3.7780 - val_categorical_accuracy: 0.0000e+00\n",
            "Epoch 15/1000\n",
            "3/3 [==============================] - 0s 126ms/step - loss: 3.6806 - categorical_accuracy: 0.0317 - val_loss: 3.7773 - val_categorical_accuracy: 0.0000e+00\n",
            "Epoch 16/1000\n",
            "3/3 [==============================] - 0s 129ms/step - loss: 3.6648 - categorical_accuracy: 0.0317 - val_loss: 3.7849 - val_categorical_accuracy: 0.0000e+00\n",
            "Epoch 17/1000\n",
            "3/3 [==============================] - 0s 127ms/step - loss: 3.6139 - categorical_accuracy: 0.0278 - val_loss: 4.2725 - val_categorical_accuracy: 0.0000e+00\n",
            "Epoch 18/1000\n",
            "3/3 [==============================] - 0s 128ms/step - loss: 3.6583 - categorical_accuracy: 0.0437 - val_loss: 3.7864 - val_categorical_accuracy: 0.0000e+00\n",
            "Epoch 19/1000\n",
            "3/3 [==============================] - 0s 125ms/step - loss: 3.6783 - categorical_accuracy: 0.0476 - val_loss: 3.8177 - val_categorical_accuracy: 0.0000e+00\n",
            "Epoch 20/1000\n",
            "3/3 [==============================] - 0s 126ms/step - loss: 3.6842 - categorical_accuracy: 0.0317 - val_loss: 3.8177 - val_categorical_accuracy: 0.0000e+00\n",
            "Epoch 21/1000\n",
            "3/3 [==============================] - 0s 127ms/step - loss: 3.6848 - categorical_accuracy: 0.0238 - val_loss: 3.7579 - val_categorical_accuracy: 0.0000e+00\n",
            "Epoch 22/1000\n",
            "3/3 [==============================] - 0s 125ms/step - loss: 3.6846 - categorical_accuracy: 0.0238 - val_loss: 3.7441 - val_categorical_accuracy: 0.0000e+00\n",
            "Epoch 23/1000\n",
            "3/3 [==============================] - 0s 127ms/step - loss: 3.6844 - categorical_accuracy: 0.0159 - val_loss: 3.7456 - val_categorical_accuracy: 0.0000e+00\n",
            "Epoch 24/1000\n",
            "3/3 [==============================] - 0s 125ms/step - loss: 3.6716 - categorical_accuracy: 0.0437 - val_loss: 3.7427 - val_categorical_accuracy: 0.0000e+00\n",
            "Epoch 25/1000\n",
            "3/3 [==============================] - 0s 125ms/step - loss: 3.6333 - categorical_accuracy: 0.0675 - val_loss: 3.7286 - val_categorical_accuracy: 0.0357\n",
            "Epoch 26/1000\n",
            "3/3 [==============================] - 0s 130ms/step - loss: 3.5475 - categorical_accuracy: 0.1032 - val_loss: 3.7761 - val_categorical_accuracy: 0.0000e+00\n",
            "Epoch 27/1000\n",
            "3/3 [==============================] - 0s 127ms/step - loss: 3.2545 - categorical_accuracy: 0.1349 - val_loss: 3.4448 - val_categorical_accuracy: 0.1429\n",
            "Epoch 28/1000\n",
            "3/3 [==============================] - 0s 127ms/step - loss: 2.8334 - categorical_accuracy: 0.2341 - val_loss: 2.7440 - val_categorical_accuracy: 0.2500\n",
            "Epoch 29/1000\n",
            "3/3 [==============================] - 0s 129ms/step - loss: 2.2303 - categorical_accuracy: 0.3413 - val_loss: 2.3144 - val_categorical_accuracy: 0.3571\n",
            "Epoch 30/1000\n",
            "3/3 [==============================] - 0s 126ms/step - loss: 1.8686 - categorical_accuracy: 0.4563 - val_loss: 1.7800 - val_categorical_accuracy: 0.5714\n",
            "Epoch 31/1000\n",
            "3/3 [==============================] - 0s 128ms/step - loss: 1.4499 - categorical_accuracy: 0.5952 - val_loss: 1.1891 - val_categorical_accuracy: 0.7143\n",
            "Epoch 32/1000\n",
            "3/3 [==============================] - 0s 127ms/step - loss: 1.0213 - categorical_accuracy: 0.6667 - val_loss: 1.4522 - val_categorical_accuracy: 0.6786\n",
            "Epoch 33/1000\n",
            "3/3 [==============================] - 0s 129ms/step - loss: 0.8869 - categorical_accuracy: 0.7579 - val_loss: 1.6172 - val_categorical_accuracy: 0.6071\n",
            "Epoch 34/1000\n",
            "3/3 [==============================] - 0s 128ms/step - loss: 0.6197 - categorical_accuracy: 0.8135 - val_loss: 1.0860 - val_categorical_accuracy: 0.8571\n",
            "Epoch 35/1000\n",
            "3/3 [==============================] - 0s 128ms/step - loss: 0.4719 - categorical_accuracy: 0.8611 - val_loss: 0.8799 - val_categorical_accuracy: 0.8214\n",
            "Epoch 36/1000\n",
            "3/3 [==============================] - 0s 128ms/step - loss: 0.4100 - categorical_accuracy: 0.8929 - val_loss: 0.9214 - val_categorical_accuracy: 0.8571\n",
            "Epoch 37/1000\n",
            "3/3 [==============================] - 0s 126ms/step - loss: 0.2371 - categorical_accuracy: 0.9206 - val_loss: 1.8318 - val_categorical_accuracy: 0.7143\n",
            "Epoch 38/1000\n",
            "3/3 [==============================] - 0s 129ms/step - loss: 0.1694 - categorical_accuracy: 0.9524 - val_loss: 1.7100 - val_categorical_accuracy: 0.6786\n",
            "Epoch 39/1000\n",
            "3/3 [==============================] - 0s 127ms/step - loss: 0.1145 - categorical_accuracy: 0.9643 - val_loss: 1.5011 - val_categorical_accuracy: 0.7857\n",
            "Epoch 40/1000\n",
            "3/3 [==============================] - 0s 128ms/step - loss: 0.0777 - categorical_accuracy: 0.9762 - val_loss: 1.3638 - val_categorical_accuracy: 0.8571\n",
            "Epoch 41/1000\n",
            "3/3 [==============================] - 0s 127ms/step - loss: 0.1154 - categorical_accuracy: 0.9722 - val_loss: 1.0964 - val_categorical_accuracy: 0.8929\n",
            "Epoch 42/1000\n",
            "3/3 [==============================] - 0s 128ms/step - loss: 0.0755 - categorical_accuracy: 0.9802 - val_loss: 0.9663 - val_categorical_accuracy: 0.7857\n",
            "Epoch 43/1000\n",
            "3/3 [==============================] - 0s 126ms/step - loss: 0.0562 - categorical_accuracy: 0.9762 - val_loss: 1.0079 - val_categorical_accuracy: 0.7857\n",
            "Epoch 44/1000\n",
            "3/3 [==============================] - 0s 128ms/step - loss: 0.0824 - categorical_accuracy: 0.9841 - val_loss: 1.2137 - val_categorical_accuracy: 0.7143\n",
            "Epoch 45/1000\n",
            "3/3 [==============================] - 0s 127ms/step - loss: 0.0629 - categorical_accuracy: 0.9841 - val_loss: 1.1152 - val_categorical_accuracy: 0.8214\n",
            "Epoch 46/1000\n",
            "3/3 [==============================] - 0s 128ms/step - loss: 0.0787 - categorical_accuracy: 0.9802 - val_loss: 0.6366 - val_categorical_accuracy: 0.7857\n",
            "Epoch 47/1000\n",
            "3/3 [==============================] - 0s 129ms/step - loss: 0.1272 - categorical_accuracy: 0.9722 - val_loss: 0.4295 - val_categorical_accuracy: 0.8929\n",
            "Epoch 48/1000\n",
            "3/3 [==============================] - 0s 126ms/step - loss: 0.0480 - categorical_accuracy: 0.9841 - val_loss: 0.4570 - val_categorical_accuracy: 0.8929\n",
            "Epoch 49/1000\n",
            "3/3 [==============================] - 0s 128ms/step - loss: 0.0508 - categorical_accuracy: 0.9881 - val_loss: 0.6485 - val_categorical_accuracy: 0.8929\n",
            "Epoch 50/1000\n",
            "3/3 [==============================] - 0s 126ms/step - loss: 0.0170 - categorical_accuracy: 0.9921 - val_loss: 0.8472 - val_categorical_accuracy: 0.8929\n",
            "Epoch 51/1000\n",
            "3/3 [==============================] - 0s 127ms/step - loss: 0.0504 - categorical_accuracy: 0.9921 - val_loss: 0.8379 - val_categorical_accuracy: 0.8929\n",
            "Epoch 52/1000\n",
            "3/3 [==============================] - 0s 127ms/step - loss: 0.0138 - categorical_accuracy: 0.9960 - val_loss: 1.0312 - val_categorical_accuracy: 0.8571\n",
            "Epoch 53/1000\n",
            "3/3 [==============================] - 0s 128ms/step - loss: 0.0291 - categorical_accuracy: 0.9921 - val_loss: 1.2785 - val_categorical_accuracy: 0.8571\n",
            "Epoch 54/1000\n",
            "3/3 [==============================] - 0s 129ms/step - loss: 0.0109 - categorical_accuracy: 0.9960 - val_loss: 1.2673 - val_categorical_accuracy: 0.8214\n",
            "Epoch 55/1000\n",
            "3/3 [==============================] - 0s 126ms/step - loss: 0.0093 - categorical_accuracy: 0.9960 - val_loss: 1.2416 - val_categorical_accuracy: 0.8214\n",
            "Epoch 56/1000\n",
            "3/3 [==============================] - 0s 128ms/step - loss: 0.0200 - categorical_accuracy: 0.9960 - val_loss: 1.2201 - val_categorical_accuracy: 0.7857\n",
            "Epoch 57/1000\n",
            "3/3 [==============================] - 0s 126ms/step - loss: 0.0023 - categorical_accuracy: 1.0000 - val_loss: 1.1412 - val_categorical_accuracy: 0.8214\n",
            "Epoch 58/1000\n",
            "3/3 [==============================] - 0s 127ms/step - loss: 0.0082 - categorical_accuracy: 0.9921 - val_loss: 1.1732 - val_categorical_accuracy: 0.8571\n",
            "Epoch 59/1000\n",
            "3/3 [==============================] - 0s 127ms/step - loss: 0.0130 - categorical_accuracy: 0.9960 - val_loss: 1.4858 - val_categorical_accuracy: 0.8214\n",
            "Epoch 60/1000\n",
            "3/3 [==============================] - 0s 127ms/step - loss: 0.0033 - categorical_accuracy: 1.0000 - val_loss: 1.8751 - val_categorical_accuracy: 0.8571\n",
            "Epoch 61/1000\n",
            "3/3 [==============================] - 0s 126ms/step - loss: 0.0321 - categorical_accuracy: 0.9881 - val_loss: 1.6961 - val_categorical_accuracy: 0.8929\n",
            "Epoch 62/1000\n",
            "3/3 [==============================] - 0s 129ms/step - loss: 0.0123 - categorical_accuracy: 0.9960 - val_loss: 1.5924 - val_categorical_accuracy: 0.8571\n",
            "Epoch 63/1000\n",
            "3/3 [==============================] - 0s 127ms/step - loss: 0.0040 - categorical_accuracy: 1.0000 - val_loss: 1.6434 - val_categorical_accuracy: 0.8929\n",
            "Epoch 64/1000\n",
            "3/3 [==============================] - 0s 129ms/step - loss: 0.0163 - categorical_accuracy: 0.9960 - val_loss: 2.0104 - val_categorical_accuracy: 0.8929\n",
            "Epoch 65/1000\n",
            "3/3 [==============================] - 0s 128ms/step - loss: 0.0175 - categorical_accuracy: 0.9960 - val_loss: 2.1585 - val_categorical_accuracy: 0.8571\n",
            "Epoch 66/1000\n",
            "3/3 [==============================] - 0s 127ms/step - loss: 0.0165 - categorical_accuracy: 0.9960 - val_loss: 2.2606 - val_categorical_accuracy: 0.8214\n",
            "Epoch 67/1000\n",
            "3/3 [==============================] - 0s 129ms/step - loss: 0.0145 - categorical_accuracy: 0.9921 - val_loss: 2.0778 - val_categorical_accuracy: 0.8214\n",
            "Epoch 68/1000\n",
            "3/3 [==============================] - 0s 126ms/step - loss: 0.0033 - categorical_accuracy: 1.0000 - val_loss: 1.9388 - val_categorical_accuracy: 0.8214\n",
            "Epoch 69/1000\n",
            "3/3 [==============================] - 0s 126ms/step - loss: 0.0206 - categorical_accuracy: 0.9960 - val_loss: 1.7614 - val_categorical_accuracy: 0.8214\n",
            "Epoch 70/1000\n",
            "3/3 [==============================] - 0s 127ms/step - loss: 0.0047 - categorical_accuracy: 1.0000 - val_loss: 1.5892 - val_categorical_accuracy: 0.8214\n",
            "Epoch 71/1000\n",
            "3/3 [==============================] - 0s 128ms/step - loss: 0.0254 - categorical_accuracy: 0.9921 - val_loss: 1.2810 - val_categorical_accuracy: 0.8214\n",
            "Epoch 72/1000\n",
            "3/3 [==============================] - 0s 127ms/step - loss: 0.0012 - categorical_accuracy: 1.0000 - val_loss: 0.8833 - val_categorical_accuracy: 0.8571\n",
            "Epoch 73/1000\n",
            "3/3 [==============================] - 0s 129ms/step - loss: 0.0093 - categorical_accuracy: 0.9960 - val_loss: 0.8053 - val_categorical_accuracy: 0.8571\n",
            "Epoch 74/1000\n",
            "3/3 [==============================] - 0s 127ms/step - loss: 0.0028 - categorical_accuracy: 1.0000 - val_loss: 0.7592 - val_categorical_accuracy: 0.8929\n",
            "Epoch 75/1000\n",
            "3/3 [==============================] - 0s 128ms/step - loss: 0.0394 - categorical_accuracy: 0.9960 - val_loss: 0.7876 - val_categorical_accuracy: 0.9286\n",
            "Epoch 76/1000\n",
            "3/3 [==============================] - 0s 129ms/step - loss: 4.6044e-04 - categorical_accuracy: 1.0000 - val_loss: 0.8310 - val_categorical_accuracy: 0.8929\n",
            "Epoch 77/1000\n",
            "3/3 [==============================] - 0s 128ms/step - loss: 0.0139 - categorical_accuracy: 0.9960 - val_loss: 0.7761 - val_categorical_accuracy: 0.9286\n",
            "Epoch 78/1000\n",
            "3/3 [==============================] - 0s 130ms/step - loss: 0.0071 - categorical_accuracy: 0.9960 - val_loss: 0.6390 - val_categorical_accuracy: 0.8929\n",
            "Epoch 79/1000\n",
            "3/3 [==============================] - 0s 127ms/step - loss: 0.0086 - categorical_accuracy: 0.9960 - val_loss: 0.6965 - val_categorical_accuracy: 0.8929\n",
            "Epoch 80/1000\n",
            "3/3 [==============================] - 0s 128ms/step - loss: 0.0219 - categorical_accuracy: 0.9960 - val_loss: 0.9236 - val_categorical_accuracy: 0.8929\n",
            "Epoch 81/1000\n",
            "3/3 [==============================] - 0s 129ms/step - loss: 0.0326 - categorical_accuracy: 0.9960 - val_loss: 1.0599 - val_categorical_accuracy: 0.8929\n",
            "Epoch 82/1000\n",
            "3/3 [==============================] - 0s 127ms/step - loss: 0.0481 - categorical_accuracy: 0.9921 - val_loss: 1.1704 - val_categorical_accuracy: 0.8571\n",
            "Epoch 83/1000\n",
            "3/3 [==============================] - 0s 129ms/step - loss: 0.0117 - categorical_accuracy: 0.9960 - val_loss: 1.1908 - val_categorical_accuracy: 0.8929\n",
            "Epoch 84/1000\n",
            "3/3 [==============================] - 0s 128ms/step - loss: 0.0057 - categorical_accuracy: 1.0000 - val_loss: 1.1578 - val_categorical_accuracy: 0.8929\n",
            "Epoch 85/1000\n",
            "3/3 [==============================] - 0s 126ms/step - loss: 0.0502 - categorical_accuracy: 0.9921 - val_loss: 1.0456 - val_categorical_accuracy: 0.8929\n",
            "Epoch 86/1000\n",
            "3/3 [==============================] - 0s 127ms/step - loss: 0.0021 - categorical_accuracy: 1.0000 - val_loss: 0.9266 - val_categorical_accuracy: 0.8929\n",
            "Epoch 87/1000\n",
            "3/3 [==============================] - 0s 127ms/step - loss: 0.0251 - categorical_accuracy: 0.9960 - val_loss: 0.8174 - val_categorical_accuracy: 0.8929\n",
            "Epoch 88/1000\n",
            "3/3 [==============================] - 0s 128ms/step - loss: 0.0010 - categorical_accuracy: 1.0000 - val_loss: 0.7300 - val_categorical_accuracy: 0.8929\n",
            "Epoch 89/1000\n",
            "3/3 [==============================] - 0s 129ms/step - loss: 0.0011 - categorical_accuracy: 1.0000 - val_loss: 0.6765 - val_categorical_accuracy: 0.8929\n",
            "Epoch 90/1000\n",
            "3/3 [==============================] - 0s 127ms/step - loss: 0.0015 - categorical_accuracy: 1.0000 - val_loss: 0.6113 - val_categorical_accuracy: 0.8929\n",
            "Epoch 91/1000\n",
            "3/3 [==============================] - 0s 128ms/step - loss: 6.0803e-04 - categorical_accuracy: 1.0000 - val_loss: 0.5002 - val_categorical_accuracy: 0.8929\n",
            "Epoch 92/1000\n",
            "3/3 [==============================] - 0s 129ms/step - loss: 1.8669e-04 - categorical_accuracy: 1.0000 - val_loss: 0.4223 - val_categorical_accuracy: 0.8929\n",
            "Epoch 93/1000\n",
            "3/3 [==============================] - 0s 128ms/step - loss: 2.3465e-04 - categorical_accuracy: 1.0000 - val_loss: 0.4229 - val_categorical_accuracy: 0.9286\n",
            "Epoch 94/1000\n",
            "3/3 [==============================] - 0s 128ms/step - loss: 0.0028 - categorical_accuracy: 1.0000 - val_loss: 0.4083 - val_categorical_accuracy: 0.9286\n",
            "Epoch 95/1000\n",
            "3/3 [==============================] - 0s 128ms/step - loss: 1.9113e-04 - categorical_accuracy: 1.0000 - val_loss: 0.3798 - val_categorical_accuracy: 0.8929\n",
            "Epoch 96/1000\n",
            "3/3 [==============================] - 0s 130ms/step - loss: 0.0013 - categorical_accuracy: 1.0000 - val_loss: 0.3524 - val_categorical_accuracy: 0.8929\n",
            "Epoch 97/1000\n",
            "3/3 [==============================] - 0s 128ms/step - loss: 1.1309e-04 - categorical_accuracy: 1.0000 - val_loss: 0.3305 - val_categorical_accuracy: 0.8929\n",
            "Epoch 98/1000\n",
            "3/3 [==============================] - 0s 127ms/step - loss: 0.0014 - categorical_accuracy: 1.0000 - val_loss: 0.3414 - val_categorical_accuracy: 0.9286\n",
            "Epoch 99/1000\n",
            "3/3 [==============================] - 0s 129ms/step - loss: 4.3255e-04 - categorical_accuracy: 1.0000 - val_loss: 0.3548 - val_categorical_accuracy: 0.9286\n",
            "Epoch 100/1000\n",
            "3/3 [==============================] - 0s 129ms/step - loss: 2.2456e-04 - categorical_accuracy: 1.0000 - val_loss: 0.3788 - val_categorical_accuracy: 0.9286\n",
            "Epoch 101/1000\n",
            "3/3 [==============================] - 0s 128ms/step - loss: 1.2836e-04 - categorical_accuracy: 1.0000 - val_loss: 0.3993 - val_categorical_accuracy: 0.9286\n",
            "Epoch 102/1000\n",
            "3/3 [==============================] - 0s 128ms/step - loss: 9.4778e-05 - categorical_accuracy: 1.0000 - val_loss: 0.4157 - val_categorical_accuracy: 0.9286\n",
            "Epoch 103/1000\n",
            "3/3 [==============================] - 0s 128ms/step - loss: 2.7519e-04 - categorical_accuracy: 1.0000 - val_loss: 0.4227 - val_categorical_accuracy: 0.9286\n",
            "Epoch 104/1000\n",
            "3/3 [==============================] - 0s 128ms/step - loss: 4.8475e-05 - categorical_accuracy: 1.0000 - val_loss: 0.4254 - val_categorical_accuracy: 0.9286\n",
            "Epoch 105/1000\n",
            "3/3 [==============================] - 0s 128ms/step - loss: 4.8282e-05 - categorical_accuracy: 1.0000 - val_loss: 0.4253 - val_categorical_accuracy: 0.9286\n",
            "Epoch 106/1000\n",
            "3/3 [==============================] - 0s 130ms/step - loss: 6.3486e-05 - categorical_accuracy: 1.0000 - val_loss: 0.4233 - val_categorical_accuracy: 0.9286\n",
            "Epoch 107/1000\n",
            "3/3 [==============================] - 0s 129ms/step - loss: 6.6413e-05 - categorical_accuracy: 1.0000 - val_loss: 0.4148 - val_categorical_accuracy: 0.9286\n",
            "Epoch 108/1000\n",
            "3/3 [==============================] - 0s 132ms/step - loss: 5.4101e-05 - categorical_accuracy: 1.0000 - val_loss: 0.4122 - val_categorical_accuracy: 0.9286\n",
            "Epoch 109/1000\n",
            "3/3 [==============================] - 0s 129ms/step - loss: 2.2226e-05 - categorical_accuracy: 1.0000 - val_loss: 0.4170 - val_categorical_accuracy: 0.8929\n",
            "Epoch 110/1000\n",
            "3/3 [==============================] - 0s 127ms/step - loss: 0.0017 - categorical_accuracy: 1.0000 - val_loss: 0.4142 - val_categorical_accuracy: 0.8929\n",
            "Epoch 111/1000\n",
            "3/3 [==============================] - 0s 130ms/step - loss: 1.3423e-05 - categorical_accuracy: 1.0000 - val_loss: 0.3863 - val_categorical_accuracy: 0.9286\n",
            "Epoch 112/1000\n",
            "3/3 [==============================] - 0s 128ms/step - loss: 0.0240 - categorical_accuracy: 0.9960 - val_loss: 0.4089 - val_categorical_accuracy: 0.9286\n",
            "Epoch 113/1000\n",
            "3/3 [==============================] - 0s 128ms/step - loss: 3.6224e-04 - categorical_accuracy: 1.0000 - val_loss: 1.0442 - val_categorical_accuracy: 0.8571\n",
            "Epoch 114/1000\n",
            "3/3 [==============================] - 0s 128ms/step - loss: 0.0544 - categorical_accuracy: 0.9841 - val_loss: 0.6806 - val_categorical_accuracy: 0.8929\n",
            "Epoch 115/1000\n",
            "3/3 [==============================] - 0s 128ms/step - loss: 0.0061 - categorical_accuracy: 0.9960 - val_loss: 0.7446 - val_categorical_accuracy: 0.8929\n",
            "Epoch 116/1000\n",
            "3/3 [==============================] - 0s 129ms/step - loss: 0.0484 - categorical_accuracy: 0.9921 - val_loss: 0.5991 - val_categorical_accuracy: 0.8929\n",
            "Epoch 117/1000\n",
            "3/3 [==============================] - 0s 130ms/step - loss: 0.0084 - categorical_accuracy: 0.9960 - val_loss: 0.5702 - val_categorical_accuracy: 0.8929\n",
            "Epoch 118/1000\n",
            "3/3 [==============================] - 0s 128ms/step - loss: 0.0167 - categorical_accuracy: 0.9921 - val_loss: 0.5292 - val_categorical_accuracy: 0.8929\n",
            "Epoch 119/1000\n",
            "3/3 [==============================] - 0s 128ms/step - loss: 0.0046 - categorical_accuracy: 1.0000 - val_loss: 0.5551 - val_categorical_accuracy: 0.8929\n",
            "Epoch 120/1000\n",
            "3/3 [==============================] - 0s 129ms/step - loss: 0.0081 - categorical_accuracy: 1.0000 - val_loss: 0.5471 - val_categorical_accuracy: 0.9286\n",
            "Epoch 121/1000\n",
            "3/3 [==============================] - 0s 130ms/step - loss: 0.0025 - categorical_accuracy: 1.0000 - val_loss: 0.5441 - val_categorical_accuracy: 0.9286\n",
            "Epoch 122/1000\n",
            "3/3 [==============================] - 0s 128ms/step - loss: 4.6887e-04 - categorical_accuracy: 1.0000 - val_loss: 0.5775 - val_categorical_accuracy: 0.9286\n",
            "Epoch 123/1000\n",
            "3/3 [==============================] - 0s 128ms/step - loss: 0.0011 - categorical_accuracy: 1.0000 - val_loss: 0.6378 - val_categorical_accuracy: 0.8929\n",
            "Epoch 124/1000\n",
            "3/3 [==============================] - 0s 128ms/step - loss: 0.0012 - categorical_accuracy: 1.0000 - val_loss: 0.6442 - val_categorical_accuracy: 0.9286\n",
            "Epoch 125/1000\n",
            "3/3 [==============================] - 0s 128ms/step - loss: 0.0018 - categorical_accuracy: 1.0000 - val_loss: 0.6831 - val_categorical_accuracy: 0.9286\n",
            "Epoch 126/1000\n",
            "3/3 [==============================] - 0s 128ms/step - loss: 2.9168e-04 - categorical_accuracy: 1.0000 - val_loss: 0.7290 - val_categorical_accuracy: 0.8929\n",
            "Epoch 127/1000\n",
            "3/3 [==============================] - 0s 128ms/step - loss: 1.6002e-04 - categorical_accuracy: 1.0000 - val_loss: 0.7746 - val_categorical_accuracy: 0.8929\n",
            "Epoch 128/1000\n",
            "3/3 [==============================] - 0s 128ms/step - loss: 6.7034e-04 - categorical_accuracy: 1.0000 - val_loss: 0.8024 - val_categorical_accuracy: 0.8929\n",
            "Epoch 129/1000\n",
            "3/3 [==============================] - 0s 130ms/step - loss: 4.0187e-05 - categorical_accuracy: 1.0000 - val_loss: 0.8420 - val_categorical_accuracy: 0.9286\n",
            "Epoch 130/1000\n",
            "3/3 [==============================] - 0s 127ms/step - loss: 1.0276e-04 - categorical_accuracy: 1.0000 - val_loss: 0.8948 - val_categorical_accuracy: 0.9286\n",
            "Epoch 131/1000\n",
            "3/3 [==============================] - 0s 129ms/step - loss: 6.3803e-05 - categorical_accuracy: 1.0000 - val_loss: 0.9330 - val_categorical_accuracy: 0.9286\n",
            "Epoch 132/1000\n",
            "3/3 [==============================] - 0s 129ms/step - loss: 3.9808e-05 - categorical_accuracy: 1.0000 - val_loss: 0.9663 - val_categorical_accuracy: 0.9286\n",
            "Epoch 133/1000\n",
            "3/3 [==============================] - 0s 128ms/step - loss: 2.7960e-05 - categorical_accuracy: 1.0000 - val_loss: 1.0033 - val_categorical_accuracy: 0.9286\n",
            "Epoch 134/1000\n",
            "3/3 [==============================] - 0s 129ms/step - loss: 1.3617e-05 - categorical_accuracy: 1.0000 - val_loss: 1.0518 - val_categorical_accuracy: 0.9286\n",
            "Epoch 135/1000\n",
            "3/3 [==============================] - 0s 127ms/step - loss: 1.6855e-05 - categorical_accuracy: 1.0000 - val_loss: 1.0961 - val_categorical_accuracy: 0.9286\n",
            "Epoch 136/1000\n",
            "3/3 [==============================] - 0s 128ms/step - loss: 4.1400e-05 - categorical_accuracy: 1.0000 - val_loss: 1.0823 - val_categorical_accuracy: 0.9286\n",
            "Epoch 137/1000\n",
            "3/3 [==============================] - 0s 130ms/step - loss: 9.1649e-06 - categorical_accuracy: 1.0000 - val_loss: 1.0652 - val_categorical_accuracy: 0.9286\n",
            "Epoch 138/1000\n",
            "3/3 [==============================] - 0s 128ms/step - loss: 9.2449e-06 - categorical_accuracy: 1.0000 - val_loss: 1.0516 - val_categorical_accuracy: 0.9286\n",
            "Epoch 139/1000\n",
            "3/3 [==============================] - 0s 127ms/step - loss: 2.9642e-05 - categorical_accuracy: 1.0000 - val_loss: 1.0470 - val_categorical_accuracy: 0.9286\n",
            "Epoch 140/1000\n",
            "3/3 [==============================] - 0s 128ms/step - loss: 2.3144e-05 - categorical_accuracy: 1.0000 - val_loss: 1.0485 - val_categorical_accuracy: 0.9286\n",
            "Epoch 141/1000\n",
            "3/3 [==============================] - 0s 129ms/step - loss: 4.0308e-05 - categorical_accuracy: 1.0000 - val_loss: 1.0491 - val_categorical_accuracy: 0.9286\n",
            "Epoch 142/1000\n",
            "3/3 [==============================] - 0s 127ms/step - loss: 4.3712e-05 - categorical_accuracy: 1.0000 - val_loss: 1.0316 - val_categorical_accuracy: 0.9286\n",
            "Epoch 143/1000\n",
            "3/3 [==============================] - 0s 127ms/step - loss: 8.1518e-06 - categorical_accuracy: 1.0000 - val_loss: 1.0159 - val_categorical_accuracy: 0.9286\n",
            "Epoch 144/1000\n",
            "3/3 [==============================] - 0s 130ms/step - loss: 1.1347e-05 - categorical_accuracy: 1.0000 - val_loss: 1.0130 - val_categorical_accuracy: 0.9286\n",
            "Epoch 145/1000\n",
            "3/3 [==============================] - 0s 128ms/step - loss: 2.4257e-05 - categorical_accuracy: 1.0000 - val_loss: 1.0241 - val_categorical_accuracy: 0.9286\n",
            "Epoch 146/1000\n",
            "3/3 [==============================] - 0s 128ms/step - loss: 1.7337e-06 - categorical_accuracy: 1.0000 - val_loss: 1.0459 - val_categorical_accuracy: 0.9286\n",
            "Epoch 147/1000\n",
            "3/3 [==============================] - 0s 130ms/step - loss: 1.5493e-04 - categorical_accuracy: 1.0000 - val_loss: 1.0239 - val_categorical_accuracy: 0.9286\n",
            "Epoch 148/1000\n",
            "3/3 [==============================] - 0s 130ms/step - loss: 9.7029e-06 - categorical_accuracy: 1.0000 - val_loss: 1.0150 - val_categorical_accuracy: 0.9286\n",
            "Epoch 149/1000\n",
            "3/3 [==============================] - 0s 127ms/step - loss: 3.6718e-06 - categorical_accuracy: 1.0000 - val_loss: 1.0249 - val_categorical_accuracy: 0.9286\n",
            "Epoch 150/1000\n",
            "3/3 [==============================] - 0s 128ms/step - loss: 3.2727e-06 - categorical_accuracy: 1.0000 - val_loss: 1.0374 - val_categorical_accuracy: 0.8929\n",
            "Epoch 151/1000\n",
            "3/3 [==============================] - 0s 128ms/step - loss: 1.3659e-05 - categorical_accuracy: 1.0000 - val_loss: 1.0478 - val_categorical_accuracy: 0.8929\n",
            "Epoch 152/1000\n",
            "3/3 [==============================] - 0s 128ms/step - loss: 1.3729e-05 - categorical_accuracy: 1.0000 - val_loss: 1.0552 - val_categorical_accuracy: 0.8929\n",
            "Epoch 153/1000\n",
            "3/3 [==============================] - 0s 131ms/step - loss: 5.5476e-06 - categorical_accuracy: 1.0000 - val_loss: 1.0603 - val_categorical_accuracy: 0.8929\n",
            "Epoch 154/1000\n",
            "3/3 [==============================] - 0s 130ms/step - loss: 1.4633e-05 - categorical_accuracy: 1.0000 - val_loss: 1.0646 - val_categorical_accuracy: 0.8929\n",
            "Epoch 155/1000\n",
            "3/3 [==============================] - 0s 128ms/step - loss: 1.1729e-05 - categorical_accuracy: 1.0000 - val_loss: 1.0626 - val_categorical_accuracy: 0.8929\n",
            "Epoch 156/1000\n",
            "3/3 [==============================] - 0s 128ms/step - loss: 9.4473e-06 - categorical_accuracy: 1.0000 - val_loss: 1.0614 - val_categorical_accuracy: 0.8929\n",
            "Epoch 157/1000\n",
            "3/3 [==============================] - 0s 129ms/step - loss: 3.2412e-06 - categorical_accuracy: 1.0000 - val_loss: 1.0607 - val_categorical_accuracy: 0.8929\n",
            "Epoch 158/1000\n",
            "3/3 [==============================] - 0s 128ms/step - loss: 6.9301e-06 - categorical_accuracy: 1.0000 - val_loss: 1.0606 - val_categorical_accuracy: 0.8929\n",
            "Epoch 159/1000\n",
            "3/3 [==============================] - 0s 132ms/step - loss: 2.1957e-06 - categorical_accuracy: 1.0000 - val_loss: 1.0613 - val_categorical_accuracy: 0.8929\n",
            "Epoch 160/1000\n",
            "3/3 [==============================] - 0s 128ms/step - loss: 1.3993e-06 - categorical_accuracy: 1.0000 - val_loss: 1.0631 - val_categorical_accuracy: 0.8929\n",
            "Epoch 161/1000\n",
            "3/3 [==============================] - 0s 129ms/step - loss: 2.8564e-06 - categorical_accuracy: 1.0000 - val_loss: 1.0645 - val_categorical_accuracy: 0.8929\n",
            "Epoch 162/1000\n",
            "3/3 [==============================] - 0s 130ms/step - loss: 7.7958e-07 - categorical_accuracy: 1.0000 - val_loss: 1.0660 - val_categorical_accuracy: 0.8929\n",
            "Epoch 163/1000\n",
            "3/3 [==============================] - 0s 129ms/step - loss: 5.2603e-07 - categorical_accuracy: 1.0000 - val_loss: 1.0674 - val_categorical_accuracy: 0.8929\n",
            "Epoch 164/1000\n",
            "3/3 [==============================] - 0s 128ms/step - loss: 9.3093e-06 - categorical_accuracy: 1.0000 - val_loss: 1.0665 - val_categorical_accuracy: 0.8929\n",
            "Epoch 165/1000\n",
            "3/3 [==============================] - 0s 129ms/step - loss: 0.0011 - categorical_accuracy: 1.0000 - val_loss: 1.0917 - val_categorical_accuracy: 0.8929\n",
            "Epoch 166/1000\n",
            "3/3 [==============================] - 0s 128ms/step - loss: 4.8895e-06 - categorical_accuracy: 1.0000 - val_loss: 1.1364 - val_categorical_accuracy: 0.8929\n",
            "Epoch 167/1000\n",
            "3/3 [==============================] - 0s 130ms/step - loss: 3.7970e-06 - categorical_accuracy: 1.0000 - val_loss: 1.1875 - val_categorical_accuracy: 0.8929\n",
            "Epoch 168/1000\n",
            "3/3 [==============================] - 0s 130ms/step - loss: 3.0755e-05 - categorical_accuracy: 1.0000 - val_loss: 1.2191 - val_categorical_accuracy: 0.8929\n",
            "Epoch 169/1000\n",
            "3/3 [==============================] - 0s 129ms/step - loss: 0.0043 - categorical_accuracy: 0.9960 - val_loss: 1.0793 - val_categorical_accuracy: 0.9286\n",
            "Epoch 170/1000\n",
            "3/3 [==============================] - 0s 129ms/step - loss: 6.5089e-04 - categorical_accuracy: 1.0000 - val_loss: 1.1570 - val_categorical_accuracy: 0.8929\n",
            "Epoch 171/1000\n",
            "3/3 [==============================] - 0s 129ms/step - loss: 0.0074 - categorical_accuracy: 0.9960 - val_loss: 0.9953 - val_categorical_accuracy: 0.9286\n",
            "Epoch 172/1000\n",
            "3/3 [==============================] - 0s 130ms/step - loss: 3.0214e-04 - categorical_accuracy: 1.0000 - val_loss: 0.9651 - val_categorical_accuracy: 0.9286\n"
          ]
        }
      ]
    },
    {
      "cell_type": "code",
      "source": [
        "plt.plot(hist_model.history['loss'])\n",
        "plt.plot(hist_model.history['val_loss'])\n",
        "plt.title('Loss')\n",
        "plt.legend([\"CNN - Treinamento\", \"CNN - Validação\"], loc=\"upper center\")"
      ],
      "metadata": {
        "id": "Vgm-oY2xdP65",
        "colab": {
          "base_uri": "https://localhost:8080/",
          "height": 298
        },
        "outputId": "b3543118-ccc9-4402-8596-e7896bcbc788"
      },
      "execution_count": 64,
      "outputs": [
        {
          "output_type": "execute_result",
          "data": {
            "text/plain": [
              "<matplotlib.legend.Legend at 0x7fe84e6f9eb0>"
            ]
          },
          "metadata": {},
          "execution_count": 64
        },
        {
          "output_type": "display_data",
          "data": {
            "text/plain": [
              "<Figure size 432x288 with 1 Axes>"
            ],
            "image/png": "[encoded data removed]"
          },
          "metadata": {
            "needs_background": "light"
          }
        }
      ]
    },
    {
      "cell_type": "code",
      "source": [
        "plt.plot(hist_model.history['categorical_accuracy'])\n",
        "plt.plot(hist_model.history['val_categorical_accuracy'])\n",
        "plt.title('Acurácia')\n",
        "plt.legend([\"CNN - Treinamento\", \"CNN - Validação\"], loc=\"lower center\")"
      ],
      "metadata": {
        "colab": {
          "base_uri": "https://localhost:8080/",
          "height": 298
        },
        "id": "imDKgh9Xk142",
        "outputId": "b60f93b3-b81c-4642-c401-c5ac96967c23"
      },
      "execution_count": 65,
      "outputs": [
        {
          "output_type": "execute_result",
          "data": {
            "text/plain": [
              "<matplotlib.legend.Legend at 0x7fe84e52fb20>"
            ]
          },
          "metadata": {},
          "execution_count": 65
        },
        {
          "output_type": "display_data",
          "data": {
            "text/plain": [
              "<Figure size 432x288 with 1 Axes>"
            ],
            "image/png": "[encoded data removed]"
          },
          "metadata": {
            "needs_background": "light"
          }
        }
      ]
    },
    {
      "cell_type": "code",
      "source": [
        "print(\"Treinamento:\")\n",
        "score_tr = model.evaluate(x_train, y_train, verbose = 1, batch_size=batch_size)\n",
        "print(\"Teste:\")\n",
        "score_Te = model.evaluate(x_test, y_test, verbose = 1, batch_size=batch_size)"
      ],
      "metadata": {
        "id": "LeE8xjdXdP-v",
        "colab": {
          "base_uri": "https://localhost:8080/"
        },
        "outputId": "c09753bd-6b64-4869-a492-ad7d0e32314e"
      },
      "execution_count": 66,
      "outputs": [
        {
          "output_type": "stream",
          "name": "stdout",
          "text": [
            "Treinamento:\n",
            "3/3 [==============================] - 0s 63ms/step - loss: 0.0969 - categorical_accuracy: 0.9929\n",
            "Teste:\n",
            "2/2 [==============================] - 0s 16ms/step - loss: 1.1291 - categorical_accuracy: 0.8833\n"
          ]
        }
      ]
    }
  ],
  "metadata": {
    "colab": {
      "provenance": [],
      "machine_shape": "hm",
      "include_colab_link": true
    },
    "kernelspec": {
      "display_name": "Python 3",
      "language": "python",
      "name": "python3"
    },
    "language_info": {
      "codemirror_mode": {
        "name": "ipython",
        "version": 3
      },
      "file_extension": ".py",
      "mimetype": "text/x-python",
      "name": "python",
      "nbconvert_exporter": "python",
      "pygments_lexer": "ipython3",
      "version": "3.7.10"
    },
    "varInspector": {
      "cols": {
        "lenName": 16,
        "lenType": 16,
        "lenVar": 40
      },
      "kernels_config": {
        "python": {
          "delete_cmd_postfix": "",
          "delete_cmd_prefix": "del ",
          "library": "var_list.py",
          "varRefreshCmd": "print(var_dic_list())"
        },
        "r": {
          "delete_cmd_postfix": ") ",
          "delete_cmd_prefix": "rm(",
          "library": "var_list.r",
          "varRefreshCmd": "cat(var_dic_list()) "
        }
      },
      "types_to_exclude": [
        "module",
        "function",
        "builtin_function_or_method",
        "instance",
        "_Feature"
      ],
      "window_display": false
    },
    "accelerator": "GPU",
    "gpuClass": "standard"
  },
  "nbformat": 4,
  "nbformat_minor": 0
}
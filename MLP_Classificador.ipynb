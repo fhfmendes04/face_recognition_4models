{
  "cells": [
    {
      "cell_type": "markdown",
      "metadata": {
        "id": "view-in-github",
        "colab_type": "text"
      },
      "source": [
        "<a href=\"https://colab.research.google.com/github/fhfmendes04/face_recognition_4models/blob/main/MLP_Classificador.ipynb\" target=\"_parent\"><img src=\"https://colab.research.google.com/assets/colab-badge.svg\" alt=\"Open In Colab\"/></a>"
      ]
    },
    {
      "cell_type": "code",
      "execution_count": 27,
      "metadata": {
        "id": "0jNKeNAIcwEN"
      },
      "outputs": [],
      "source": [
        "import numpy as np\n",
        "import pandas as pd\n",
        "import matplotlib.pyplot as plt\n",
        "from tensorflow import keras\n",
        "from sklearn.preprocessing import StandardScaler\n",
        "import tensorflow as tf\n",
        "import cv2\n",
        "from PIL import Image\n",
        "from skimage import data, exposure\n",
        "from skimage.feature import hog,local_binary_pattern\n",
        "from sklearn.decomposition import PCA\n",
        "from sklearn.metrics import classification_report\n",
        "from sklearn.model_selection import train_test_split\n",
        "\n",
        "from datetime import datetime\n",
        "\n",
        "\n",
        "from sklearn.ensemble import RandomForestClassifier\n",
        "from sklearn.neighbors import KNeighborsClassifier\n",
        "from sklearn.linear_model import LogisticRegression\n",
        "\n",
        "#from Models import ANN, Multinomial_LogReg\n",
        "\n",
        "import warnings\n",
        "warnings.filterwarnings('ignore')\n",
        "\n",
        "from tqdm import tqdm"
      ]
    },
    {
      "cell_type": "code",
      "execution_count": 2,
      "metadata": {
        "id": "YTZLVvn_cs3U",
        "colab": {
          "base_uri": "https://localhost:8080/"
        },
        "outputId": "3eed308f-89c4-4757-b7c6-a099718cc946"
      },
      "outputs": [
        {
          "output_type": "stream",
          "name": "stdout",
          "text": [
            "downloading Olivetti faces from https://ndownloader.figshare.com/files/5976027 to /root/scikit_learn_data\n"
          ]
        }
      ],
      "source": [
        "from sklearn.datasets import fetch_olivetti_faces\n",
        "dataset = fetch_olivetti_faces(random_state=42)"
      ]
    },
    {
      "cell_type": "code",
      "execution_count": 3,
      "metadata": {
        "id": "tBSAH3Q7j6UQ"
      },
      "outputs": [],
      "source": [
        "X = dataset.images\n",
        "y = dataset.target"
      ]
    },
    {
      "cell_type": "code",
      "execution_count": 4,
      "metadata": {
        "colab": {
          "base_uri": "https://localhost:8080/"
        },
        "id": "vjPFrNYDxNil",
        "outputId": "b16dc5ed-5f2f-48a0-e228-de0c81377bb9"
      },
      "outputs": [
        {
          "output_type": "stream",
          "name": "stdout",
          "text": [
            "Quantidade de pessoas: 40\n",
            "Counter({0: 10, 1: 10, 2: 10, 3: 10, 4: 10, 5: 10, 6: 10, 7: 10, 8: 10, 9: 10, 10: 10, 11: 10, 12: 10, 13: 10, 14: 10, 15: 10, 16: 10, 17: 10, 18: 10, 19: 10, 20: 10, 21: 10, 22: 10, 23: 10, 24: 10, 25: 10, 26: 10, 27: 10, 28: 10, 29: 10, 30: 10, 31: 10, 32: 10, 33: 10, 34: 10, 35: 10, 36: 10, 37: 10, 38: 10, 39: 10})\n"
          ]
        }
      ],
      "source": [
        "from collections import Counter \n",
        "d = Counter(y)\n",
        "print(\"Quantidade de pessoas:\",len(d))\n",
        "print(d)"
      ]
    },
    {
      "cell_type": "markdown",
      "metadata": {
        "id": "nFXtEbSYkFoR"
      },
      "source": [
        "# Entrada: vetor de imagem e saída(one-hot) para MLP."
      ]
    },
    {
      "cell_type": "code",
      "execution_count": 5,
      "metadata": {
        "id": "D26GhWGhUJ-I"
      },
      "outputs": [],
      "source": [
        "def lbp_features(X): \n",
        "    METHOD = 'uniform'\n",
        "    radius = 16\n",
        "    n_points = 4\n",
        "    fd_list = []\n",
        "    for row in X:\n",
        "        lbp_image = local_binary_pattern(row, n_points, radius, METHOD)\n",
        "        fd_list.append(lbp_image.flatten())\n",
        "    \n",
        "    return np.array(fd_list)"
      ]
    },
    {
      "cell_type": "code",
      "execution_count": 6,
      "metadata": {
        "colab": {
          "base_uri": "https://localhost:8080/"
        },
        "id": "YL09Xx2yUNQW",
        "outputId": "81c249c6-a017-4d7d-d794-d44f3bfe1ec4"
      },
      "outputs": [
        {
          "output_type": "stream",
          "name": "stdout",
          "text": [
            "(400, 4096)\n"
          ]
        }
      ],
      "source": [
        "image_lbp= lbp_features(X)\n",
        "print(image_lbp.shape)"
      ]
    },
    {
      "cell_type": "code",
      "execution_count": null,
      "metadata": {
        "id": "_r6KNGxhUNcf"
      },
      "outputs": [],
      "source": [
        "def hog_features(X): #====>>>>>>Usei a segunda saída da funcção que é uma imagem.\n",
        "    fd_list = []\n",
        "    for row in X:\n",
        "        _, hog_image = hog(row, orientations=6, pixels_per_cell=(4, 4), cells_per_block=(4, 4), visualize=True)\n",
        "        fd_list.append(hog_image.flatten())\n",
        "    \n",
        "    return np.array(fd_list)"
      ]
    },
    {
      "cell_type": "code",
      "execution_count": null,
      "metadata": {
        "colab": {
          "base_uri": "https://localhost:8080/"
        },
        "id": "ZdJVVvJDUVup",
        "outputId": "7d807eea-cf14-4c0b-a829-2d27c143b02d"
      },
      "outputs": [
        {
          "output_type": "stream",
          "name": "stdout",
          "text": [
            "(400, 4096)\n"
          ]
        }
      ],
      "source": [
        "image_hog = hog_features(X)\n",
        "print(image_hog.shape)"
      ]
    },
    {
      "cell_type": "code",
      "execution_count": null,
      "metadata": {
        "id": "tLWe57YxVf5v"
      },
      "outputs": [],
      "source": [
        "print(\"HOG:\",image_hog.max(), image_hog.min())\n",
        "print(\"LBP:\", image_lbp.max(), image_lbp.min())"
      ]
    },
    {
      "cell_type": "code",
      "execution_count": 7,
      "metadata": {
        "colab": {
          "base_uri": "https://localhost:8080/"
        },
        "id": "ppRmbSEhydjE",
        "outputId": "b3d635bf-bcc2-44a0-c58a-593132326d38"
      },
      "outputs": [
        {
          "output_type": "stream",
          "name": "stdout",
          "text": [
            "Quantidade de pessoas: 40\n"
          ]
        }
      ],
      "source": [
        "# transformar categorias em one-hot-encoding: Saída\n",
        "saida = y.max()+1\n",
        "print(\"Quantidade de pessoas:\",saida)\n",
        "target = keras.utils.to_categorical(y, saida)"
      ]
    },
    {
      "cell_type": "markdown",
      "metadata": {
        "id": "kHUe_NubAK32"
      },
      "source": [
        "# MLP\n"
      ]
    },
    {
      "cell_type": "code",
      "execution_count": 9,
      "metadata": {
        "id": "6eGpD36694Eg"
      },
      "outputs": [],
      "source": [
        "from sklearn.model_selection import KFold\n",
        "from numpy.random import seed\n",
        "import plotly.express as px\n",
        "from sklearn.metrics import accuracy_score"
      ]
    },
    {
      "cell_type": "code",
      "execution_count": 10,
      "metadata": {
        "id": "J3QOPiq17rra"
      },
      "outputs": [],
      "source": [
        "def bissecao_rna(dEdA, dEdB, A, B, X, Yd, N):\n",
        "    \n",
        "    def h_linha(au, dEdA, dEdB, dv, X, Yd, N):\n",
        "      An = A - au*dEdA;\n",
        "      Bn = B - au*dEdB;\n",
        "\n",
        "      dJdAn, dJdBn = calculo_gradiente(X, Yd, An, Bn, N)\n",
        "      g=np.array((dJdAn.flatten(),dJdBn.flatten()))\n",
        "      \n",
        "      return  (np.sum(dv[0] * g[0]) + np.sum(dv[1] * g[1]))\n",
        "    \n",
        "    dv = np.array((-dEdA.flatten(),-dEdB.flatten())) \n",
        "    \n",
        "    au = np.random.rand() # Chute inicial\n",
        "\n",
        "    al = 0.0\n",
        "    au = np.random.rand() # Chute inicial\n",
        "    it = 0\n",
        "\n",
        "    hl = h_linha(au, dEdA, dEdB, dv, X, Yd, N)\n",
        "\n",
        "    while hl < 0: #Verifica au está acima de zero.\n",
        "      al = au\n",
        "      au = au * 2\n",
        "      hl = h_linha(au, dEdA, dEdB, dv, X, Yd, N)\n",
        "      \n",
        "    a_medio = (al + au) / 2\n",
        "\n",
        "    hl = h_linha(au, dEdA, dEdB, dv, X, Yd, N)\n",
        "\n",
        "    itmax = np.int(np.ceil(np.log(au-al) - np.log(1e-5))/np.log(2)) #interações.\n",
        "\n",
        "    #while (it < itmax) and ((au - al)<=1.0) and (np.abs(hl)>10.0):\n",
        "    while (it < itmax):\n",
        "      it += 1\n",
        "      if hl > 0:\n",
        "        au = a_medio\n",
        "      elif hl < 0:\n",
        "        al = a_medio\n",
        "      elif hl == 0:\n",
        "        return a_medio\n",
        "      \n",
        "      a_medio = (al + au) / 2\n",
        "      hl = h_linha(au, dEdA, dEdB, dv, X, Yd, N)\n",
        "\n",
        "    return a_medio"
      ]
    },
    {
      "cell_type": "code",
      "execution_count": 11,
      "metadata": {
        "id": "I1YHpjCu7r5Q"
      },
      "outputs": [],
      "source": [
        "def calculo_saida(X, A, B, N):\n",
        "  '''\n",
        "    Calcula as predições para entradas usando argmax()\n",
        "    X = Entrada da rede.\n",
        "    A = Pesos da rede da camada do meio.\n",
        "    b = Pesos da rede da camada de sáida.\n",
        "    N = Número de instâncias do X.\n",
        "    ________\n",
        "    return: o vetor de saída com os valores das classes.\n",
        "  '''\n",
        "  Zin = np.dot(X, A.T)\n",
        "  Z = 1/(1+np.exp(-Zin))\n",
        "\n",
        "  Z = np.column_stack((Z,np.ones(N)))\n",
        "  Yin = np.dot(Z, B.T)\n",
        "  Y = 1/(1+np.exp(-Yin))\n",
        "\n",
        "  return Y"
      ]
    },
    {
      "cell_type": "code",
      "execution_count": 12,
      "metadata": {
        "id": "mN4vfJoD7r8c"
      },
      "outputs": [],
      "source": [
        "def calculo_gradiente(X, Yd, A, B, N):\n",
        "  Zin = np.dot(X, A.T) #(150,5)x(5xh)=(150,h)\n",
        "  Z = 1/(1+np.exp(-Zin)) \n",
        "\n",
        "  Zb = np.column_stack((Z,np.ones(N))) #(150,h+1)\n",
        "  Yin = np.dot(Zb, B.T) #(150, h+1)x(h+1,3) = (150,3) ns=3\n",
        "  Y = 1/(1+np.exp(-Yin)) #(150,3)\n",
        "\n",
        "  erro = Y -Yd \n",
        "  dg = (1-Y)*Y # (150,3) Derivada\n",
        "  df = (1-Z)*Z # (150,h)\n",
        "  \n",
        "\n",
        "  dEdB = 1/N * np.dot((erro * dg).T, Zb) #(3,150)x(150,h+1)= (3,h+1)\n",
        "\n",
        "  dEdZ = np.dot((erro* dg), B[:,:-1]) # retira o bias da miltiplicacao # (150,3)x(3,h)=(150, h)\n",
        "  \n",
        "\n",
        "  dEdA = 1/N * np.dot((dEdZ* df).T, X)  #(h,150)x(150,5)= (hx150)\n",
        "\n",
        "  return dEdA, dEdB"
      ]
    },
    {
      "cell_type": "code",
      "execution_count": 13,
      "metadata": {
        "id": "u5NT29rY7sBX"
      },
      "outputs": [],
      "source": [
        "def preditor_sigmoide(Y):\n",
        "  '''\n",
        "    Calcula as predições para entradas usando argmax()\n",
        "    Y = relação com as saídas\n",
        "    ________\n",
        "    return: o vetor do resultado. \n",
        "  '''\n",
        "  Y = Y.argmax(axis=1)\n",
        "  return Y"
      ]
    },
    {
      "cell_type": "code",
      "execution_count": 14,
      "metadata": {
        "id": "MBHPSxjx7sHo"
      },
      "outputs": [],
      "source": [
        "def rna(X, Yd, h, taxa_aprendizado_fixa=None, verbose = False, epoca = 3000):\n",
        "  N, ne = X.shape\n",
        "  ns = Yd.shape[1]\n",
        "\n",
        "  X = np.column_stack((X,np.ones(N)))\n",
        "  seed(42)\n",
        "  A = np.random.rand(h,(ne+1)) / 2  \n",
        "  B = np.random.rand(ns,(h+1)) / 2  \n",
        "\n",
        "  Y = calculo_saida(X, A, B, N)\n",
        "  erro = Y - Yd\n",
        "\n",
        "\n",
        "  MSE = 1/N * np.sum(erro*erro)\n",
        "  \n",
        "  ep = 0\n",
        "  epmax = epoca\n",
        "  E = 1e-2\n",
        "  MSE_ant = 0\n",
        "  MSE_atual = 0\n",
        "  soma_MSE = 0\n",
        "  \n",
        "  a,b = [],[]# Utilizada no Gráfico.\n",
        "\n",
        "  g =  np.concatenate([A.flatten(), B.flatten()])\n",
        "\n",
        "  gradiente_norm = 1\n",
        "\n",
        "  while (ep<epmax) and (soma_MSE < 20): #and (np.linalg.norm(g)>1e-7):\n",
        "    ep += 1\n",
        "    dEdA, dEdB = calculo_gradiente(X, Yd, A, B, N)\n",
        "\n",
        "    if taxa_aprendizado_fixa is None:\n",
        "      alfa = bissecao_rna(dEdA, dEdB, A, B, X, Yd, N)\n",
        "    else:\n",
        "      alfa = taxa_aprendizado_fixa\n",
        "\n",
        "    A = A - alfa*dEdA\n",
        "    B = B - alfa*dEdB\n",
        "\n",
        "    #g =  np.concatenate([dEdA.flatten(), dEdB.flatten()])\n",
        "\n",
        "    Y = calculo_saida(X, A, B, N)\n",
        "    erro = Y - Yd\n",
        "    \n",
        "    \n",
        "    MSE = 1/N * np.sum(erro*erro)\n",
        "\n",
        "    if ((ep % 100)==0):\n",
        "      print(\"Parâmetro :\", h, \"Epocas: \",ep, \"MSE:\", MSE, \"ALFA:\", alfa, \n",
        "          \"Acurácia:\",round(accuracy_score(preditor_sigmoide(Y), preditor_sigmoide(Yd)),2))\n",
        "    if verbose:\n",
        "      a.append(ep)\n",
        "      b.append(MSE)\n",
        "\n",
        "    if MSE_ant == MSE: #Conta a quantidade de MSE iguais\n",
        "      if MSE_ant == MSE_atual:\n",
        "        soma_MSE +=1\n",
        "      else:\n",
        "        soma_MSE = 1\n",
        "        MSE_atual = MSE\n",
        "    else:  \n",
        "      MSE_ant = MSE\n",
        "\n",
        "  if verbose:\n",
        "    fig = px.line(x= a, y=b, title='Gráfico - MLP()')\n",
        "    fig.show()\n",
        "\n",
        "  return A,B"
      ]
    },
    {
      "cell_type": "markdown",
      "metadata": {
        "id": "LsgIlsG_h7Ro"
      },
      "source": [
        "## LBP"
      ]
    },
    {
      "cell_type": "code",
      "execution_count": 15,
      "metadata": {
        "id": "cFr3NEhY8XPm"
      },
      "outputs": [],
      "source": [
        "#Normalização Z-score\n",
        "scaler = StandardScaler()\n",
        "scaler.fit(image_lbp)\n",
        "x_scaler = scaler.transform(image_lbp)"
      ]
    },
    {
      "cell_type": "code",
      "execution_count": 16,
      "metadata": {
        "id": "JoncQRep8wqK"
      },
      "outputs": [],
      "source": [
        "pca = PCA(n_components=50, random_state=42)\n",
        "pca.fit(x_scaler)\n",
        "X_pca = pca.transform(x_scaler)"
      ]
    },
    {
      "cell_type": "code",
      "execution_count": 17,
      "metadata": {
        "colab": {
          "base_uri": "https://localhost:8080/"
        },
        "id": "Lps3-MU_8XTC",
        "outputId": "06e20a74-30fd-406e-ed2d-46a5c85b023a"
      },
      "outputs": [
        {
          "output_type": "stream",
          "name": "stdout",
          "text": [
            "PC1: 0.07146507011961299 - 7.15%\n",
            "PC2: 0.044204830641945046 - 11.57%\n",
            "PC3: 0.03262730230382309 - 14.83%\n",
            "PC4: 0.028766772332161746 - 17.71%\n",
            "PC5: 0.0265049178850125 - 20.36%\n",
            "PC6: 0.0242672737279358 - 22.78%\n",
            "PC7: 0.022369431627340716 - 25.02%\n",
            "PC8: 0.02024328636131167 - 27.04%\n",
            "PC9: 0.018964531482152675 - 28.94%\n",
            "PC10: 0.017541143178351544 - 30.7%\n",
            "PC11: 0.016982223377488375 - 32.39%\n",
            "PC12: 0.015653767805493428 - 33.96%\n",
            "PC13: 0.014752780996445903 - 35.43%\n",
            "PC14: 0.01397665642938275 - 36.83%\n",
            "PC15: 0.012753728764836448 - 38.11%\n",
            "PC16: 0.01123043664801963 - 39.23%\n",
            "PC17: 0.010911527277293843 - 40.32%\n",
            "PC18: 0.01007009607362514 - 41.33%\n",
            "PC19: 0.009890287612781216 - 42.32%\n",
            "PC20: 0.009024760898870925 - 43.22%\n",
            "PC21: 0.008622142006023896 - 44.08%\n",
            "PC22: 0.008260074919339692 - 44.91%\n",
            "PC23: 0.008068954988169518 - 45.72%\n",
            "PC24: 0.007671548910648472 - 46.48%\n",
            "PC25: 0.007639729778018074 - 47.25%\n",
            "PC26: 0.007020663583684242 - 47.95%\n",
            "PC27: 0.0067956751876064 - 48.63%\n",
            "PC28: 0.0065717502503128055 - 49.29%\n",
            "PC29: 0.0063473725794034154 - 49.92%\n",
            "PC30: 0.006149388928434662 - 50.53%\n",
            "PC31: 0.0060176816753566105 - 51.14%\n",
            "PC32: 0.005883524304490535 - 51.72%\n",
            "PC33: 0.0055744218245676 - 52.28%\n",
            "PC34: 0.005395227928008613 - 52.82%\n",
            "PC35: 0.005383066318705695 - 53.36%\n",
            "PC36: 0.005254696011563244 - 53.89%\n",
            "PC37: 0.005026556851084488 - 54.39%\n",
            "PC38: 0.004895353959985956 - 54.88%\n",
            "PC39: 0.004851933650488106 - 55.36%\n",
            "PC40: 0.00469578286228552 - 55.83%\n",
            "PC41: 0.004620377788330155 - 56.29%\n",
            "PC42: 0.004489322086900018 - 56.74%\n",
            "PC43: 0.00434444777870583 - 57.18%\n",
            "PC44: 0.004264120422368764 - 57.6%\n",
            "PC45: 0.004129370380837612 - 58.02%\n",
            "PC46: 0.004029475225397359 - 58.42%\n",
            "PC47: 0.003975747944085493 - 58.82%\n",
            "PC48: 0.0038437154214816466 - 59.2%\n",
            "PC49: 0.003821924167325282 - 59.58%\n",
            "PC50: 0.003745981040088631 - 59.96%\n"
          ]
        }
      ],
      "source": [
        "soma = 0\n",
        "for i in range(0, len(pca.explained_variance_ratio_)):\n",
        "  soma += pca.explained_variance_ratio_[i]\n",
        "  print(f'PC{ i+1}: {pca.explained_variance_ratio_[i]} - {round(soma*100,2)}%')"
      ]
    },
    {
      "cell_type": "code",
      "execution_count": 18,
      "metadata": {
        "id": "X1zCQKxC8XXt"
      },
      "outputs": [],
      "source": [
        "#Normalização Z-score\n",
        "scaler = StandardScaler()\n",
        "scaler.fit(X_pca)\n",
        "X_pca = scaler.transform(X_pca)"
      ]
    },
    {
      "cell_type": "code",
      "execution_count": 19,
      "metadata": {
        "id": "Y49h9gNS8XcG"
      },
      "outputs": [],
      "source": [
        "x_train, x_test, y_train, y_test = train_test_split(X_pca, target, test_size=0.30, random_state=42,stratify=target)"
      ]
    },
    {
      "cell_type": "code",
      "execution_count": 20,
      "metadata": {
        "colab": {
          "base_uri": "https://localhost:8080/"
        },
        "id": "VBm6kLQZ-fqk",
        "outputId": "130f66b0-b453-4419-daaf-bfe263cdebdb"
      },
      "outputs": [
        {
          "output_type": "execute_result",
          "data": {
            "text/plain": [
              "((280, 50), (280, 40), (120, 50), (120, 40))"
            ]
          },
          "metadata": {},
          "execution_count": 20
        }
      ],
      "source": [
        "x_train.shape, y_train.shape, x_test.shape, y_test.shape"
      ]
    },
    {
      "cell_type": "code",
      "execution_count": 21,
      "metadata": {
        "colab": {
          "base_uri": "https://localhost:8080/"
        },
        "id": "33agCvcF8Xgh",
        "outputId": "96737e5e-ae19-46f7-8d64-fb29c6f26b05"
      },
      "outputs": [
        {
          "output_type": "stream",
          "name": "stdout",
          "text": [
            "Parâmetro : 150 Epocas:  100 MSE: 0.8176389892691235 ALFA: 6.828370055471538 Acurácia: 0.21\n",
            "Parâmetro : 150 Epocas:  200 MSE: 0.649675958422213 ALFA: 12.989290943603756 Acurácia: 0.38\n",
            "Parâmetro : 150 Epocas:  300 MSE: 0.5558817735873987 ALFA: 17.656553250768674 Acurácia: 0.46\n",
            "Parâmetro : 150 Epocas:  400 MSE: 0.5072452594311945 ALFA: 4034.2574278684287 Acurácia: 0.5\n",
            "Parâmetro : 150 Epocas:  500 MSE: 0.4468448841338078 ALFA: 3232.9611007615263 Acurácia: 0.56\n",
            "Parâmetro : 150 Epocas:  600 MSE: 0.3978277343534006 ALFA: 147.2856334867772 Acurácia: 0.6\n",
            "Parâmetro : 150 Epocas:  700 MSE: 0.35072791142080734 ALFA: 5.569529105916908 Acurácia: 0.65\n",
            "Parâmetro : 150 Epocas:  800 MSE: 0.3035832242234314 ALFA: 163493.43059234435 Acurácia: 0.7\n",
            "Parâmetro : 150 Epocas:  900 MSE: 0.27508357611903694 ALFA: 2858.429679454463 Acurácia: 0.72\n",
            "Parâmetro : 150 Epocas:  1000 MSE: 0.24653588850974134 ALFA: 43.3787892830688 Acurácia: 0.75\n",
            "Parâmetro : 150 Epocas:  1100 MSE: 0.23928641611475712 ALFA: 76502.3879010577 Acurácia: 0.76\n",
            "Parâmetro : 150 Epocas:  1200 MSE: 0.20011775635579668 ALFA: 544.9960467439623 Acurácia: 0.8\n",
            "Parâmetro : 150 Epocas:  1300 MSE: 0.19285715936191006 ALFA: 37211066.360445425 Acurácia: 0.81\n",
            "Parâmetro : 150 Epocas:  1400 MSE: 0.1821428581699692 ALFA: 405672270.7462389 Acurácia: 0.82\n",
            "Parâmetro : 150 Epocas:  1500 MSE: 0.1785714291576773 ALFA: 164891094.13357794 Acurácia: 0.82\n",
            "Parâmetro : 150 Epocas:  1600 MSE: 0.16071458491193402 ALFA: 18849.037680409132 Acurácia: 0.84\n",
            "Parâmetro : 150 Epocas:  1700 MSE: 0.15714285715247892 ALFA: 24751374728.547615 Acurácia: 0.84\n",
            "Parâmetro : 150 Epocas:  1800 MSE: 0.13571428571682753 ALFA: 375972036087.57056 Acurácia: 0.86\n",
            "Parâmetro : 150 Epocas:  1900 MSE: 0.11785714285783554 ALFA: 160048948974.70728 Acurácia: 0.88\n",
            "Parâmetro : 150 Epocas:  2000 MSE: 0.11785714285719118 ALFA: 4255128212407.132 Acurácia: 0.88\n",
            "Parâmetro : 150 Epocas:  2100 MSE: 0.11785714285714635 ALFA: 67634321219673.0 Acurácia: 0.88\n",
            "Parâmetro : 150 Epocas:  2200 MSE: 0.11785714285714295 ALFA: 625135585535791.2 Acurácia: 0.88\n",
            "Acurácia do Teste LBP: 0.71\n"
          ]
        }
      ],
      "source": [
        "# Treino com melhor Parâmetro \n",
        "A, B = rna(x_train, y_train, 150, epoca=5000)\n",
        "\n",
        "#Teste \n",
        "x_test_one = np.column_stack((x_test,np.ones(x_test.shape[0])))\n",
        "Y = calculo_saida(x_test_one, A, B, x_test.shape[0])\n",
        "print(\"Acurácia do Teste LBP:\",round(accuracy_score(preditor_sigmoide(Y), preditor_sigmoide(y_test)),2))"
      ]
    },
    {
      "cell_type": "code",
      "source": [
        "%time\n",
        "# Parametros\n",
        "parametros = [100, 150] #, 200, 250]\n",
        "data_atual = datetime.now().strftime(\"%d/%m/%Y %H:%M:%S\")\n",
        "texto = ''\n",
        "resultado_Classificador_LBP = []\n",
        "resultadoFile = open('MLP_LBP_error.txt', 'w') # Armazena os resultados do treinamento\n",
        "print('Execução em:', data_atual, file=resultadoFile)\n",
        "print(\"====================================================================\", file = resultadoFile)\n",
        "print(\"====================================================================\")\n",
        "param_valores = []\n",
        "kf = KFold(n_splits=2, shuffle=True, random_state=42)\n",
        "kf.get_n_splits(x_train)\n",
        "print(kf)\n",
        "\n",
        "for p in parametros:\n",
        "  print(\"+++++++++++++++\")\n",
        "  print(\"+++++++++++++++\", file=resultadoFile)\n",
        "  print(\"Tamanho da camada do meio da MLP: \", p)\n",
        "  print(\"Tamanho da camada do meio da MLP: \", p, file=resultadoFile)\n",
        "  print(\"+++++++++++++++\")\n",
        "  print(\"+++++++++++++++\", file=resultadoFile)\n",
        "  fold = 0\n",
        "  valores = []\n",
        "  for train_index, val_index in kf.split(x_train):\n",
        "    fold +=1\n",
        "    print(\"---------------\")\n",
        "    print(\"---------------\", file=resultadoFile)\n",
        "    print(\"Fold: \", fold)\n",
        "    print(\"Fold: \", fold, file=resultadoFile)\n",
        "    print(\"---------------\")\n",
        "    print(\"---------------\", file=resultadoFile)\n",
        "    X_train_kf, X_val_kf = x_train[train_index], x_train[val_index]\n",
        "    y_train_kf, y_val_kf = y_train[train_index], y_train[val_index]\n",
        "    \n",
        "    seed(42)\n",
        "      \n",
        "    A, B = rna(X_train_kf, y_train_kf, p)\n",
        "\n",
        "    X_val_kf_one = np.column_stack((X_val_kf,np.ones(X_val_kf.shape[0])))\n",
        "    Y = calculo_saida(X_val_kf_one, A, B, X_val_kf.shape[0])\n",
        "\n",
        "    print(\"Acurácia da Validação:\",round(accuracy_score(preditor_sigmoide(Y), preditor_sigmoide(y_val_kf)),2))\n",
        "    print(\"Acurácia da Validação:\",round(accuracy_score(preditor_sigmoide(Y), preditor_sigmoide(y_val_kf)),2), file=resultadoFile)\n",
        "    valores.append(round(accuracy_score(preditor_sigmoide(Y), preditor_sigmoide(y_val_kf)),6)) \n",
        "\n",
        "  print(\"Parâmetro:\", p, \"Média Acurácia:\", np.array(valores).mean())\n",
        "  print(\"Parâmetro:\", p, \"Média Acurácia:\", np.array(valores).mean(), file=resultadoFile)\n",
        "  param_valores.append(np.array(valores).mean()) \n",
        "  \n",
        "  \n",
        "print(\"Médias da Acurácia dos Parâmetros: \", param_valores)\n",
        "print(\"Médias da Acurácia dos Parâmetros: \", param_valores, file=resultadoFile)\n",
        "melhor_parametro = parametros[np.array(param_valores).argmax()]\n",
        "print(\"Melhor Parâmetro: \", melhor_parametro)\n",
        "print(\"Melhor Parâmetro: \", melhor_parametro, file=resultadoFile)\n",
        "\n",
        "resultadoFile.close()\n",
        "\n",
        "# Armazena os paramentro de treinamento com o melhor deles.\n",
        "configFile = open('MLP_LBP_config.txt', 'w') \n",
        "print('Execução em:', data_atual, file=configFile)\n",
        "print(\"A rede foi treinada com os paramêtros:\", parametros, file=configFile)\n",
        "print(\"Os paramêtros são a quantidade de neurônios da camada do meio.\", file=configFile)\n",
        "print(\"Médias da Acurácia dos Parâmetros: \", param_valores, file=resultadoFile)\n",
        "print(\"O melhor paramêtro:\", melhor_parametro)\n",
        "configFile.close()\n",
        "\n",
        "\n",
        "# Treino com melhor Parâmetro \n",
        "A, B = rna(x_train, y_train, melhor_parametro, verbose=True)\n",
        "\n",
        "#Teste \n",
        "X_test_one = np.column_stack((x_test,np.ones(x_test.shape[0])))\n",
        "Y = calculo_saida(X_test_one, A, B, x_test.shape[0])\n",
        "acuracia_teste = round(accuracy_score(preditor_sigmoide(Y), preditor_sigmoide(y_test)),2)\n",
        "print(\"Acurácia do Teste:\",acuracia_teste)\n",
        "\n",
        "resultado_Classificador_LBP = ['MLP', preditor_sigmoide(Y), acuracia_teste]\n",
        "\n",
        "#Armazena o modelo treinado\n",
        "modelFile = open('MLP_LBP_model.dat', 'w')\n",
        "print(\"O melhor paramêtro para quantidade de neurônios:\", melhor_parametro, file=modelFile)\n",
        "print(\"A:\", A, file=modelFile)\n",
        "print(\"B:\", A, file=modelFile)\n",
        "modelFile.close()"
      ],
      "metadata": {
        "id": "Aw8AG-2NKah3",
        "colab": {
          "base_uri": "https://localhost:8080/"
        },
        "outputId": "ac1fb2d3-9c72-456b-be67-872653476945"
      },
      "execution_count": null,
      "outputs": [
        {
          "output_type": "stream",
          "name": "stdout",
          "text": [
            "CPU times: user 2 µs, sys: 1 µs, total: 3 µs\n",
            "Wall time: 5.01 µs\n",
            "====================================================================\n",
            "KFold(n_splits=2, random_state=42, shuffle=True)\n",
            "+++++++++++++++\n",
            "Tamanho da camada do meio da MLP:  100\n",
            "+++++++++++++++\n",
            "---------------\n",
            "Fold:  1\n",
            "---------------\n",
            "Parâmetro : 100 Epocas:  100 MSE: 0.8627743389341066 ALFA: 5.531628072712703 Acurácia: 0.19\n",
            "Parâmetro : 100 Epocas:  200 MSE: 0.562839546519652 ALFA: 38.03612595046694 Acurácia: 0.46\n",
            "Parâmetro : 100 Epocas:  300 MSE: 0.3716800443653164 ALFA: 30.615459738254643 Acurácia: 0.64\n",
            "Parâmetro : 100 Epocas:  400 MSE: 0.3149016473976033 ALFA: 96.27440285614375 Acurácia: 0.69\n",
            "Parâmetro : 100 Epocas:  500 MSE: 0.26433266916084047 ALFA: 6800.542439135218 Acurácia: 0.74\n",
            "Parâmetro : 100 Epocas:  600 MSE: 0.25000016061667274 ALFA: 675398.7445423009 Acurácia: 0.75\n",
            "Parâmetro : 100 Epocas:  700 MSE: 0.22142913751173685 ALFA: 627888.2599525747 Acurácia: 0.78\n",
            "Parâmetro : 100 Epocas:  800 MSE: 0.2214285961618386 ALFA: 7367595.017043846 Acurácia: 0.78\n",
            "Parâmetro : 100 Epocas:  900 MSE: 0.2142857201312044 ALFA: 32663184.03554755 Acurácia: 0.79\n",
            "Parâmetro : 100 Epocas:  1000 MSE: 0.21428571582263595 ALFA: 24812856.147390112 Acurácia: 0.79\n",
            "Parâmetro : 100 Epocas:  1100 MSE: 0.1785714484716627 ALFA: 952029.6489263617 Acurácia: 0.82\n",
            "Parâmetro : 100 Epocas:  1200 MSE: 0.1571428576419635 ALFA: 855413337.0516618 Acurácia: 0.84\n",
            "Parâmetro : 100 Epocas:  1300 MSE: 0.1571428571549087 ALFA: 22621717704.188625 Acurácia: 0.84\n",
            "Parâmetro : 100 Epocas:  1400 MSE: 0.15714285714453682 ALFA: 37444264655.553 Acurácia: 0.84\n",
            "Parâmetro : 100 Epocas:  1500 MSE: 0.15000000000038496 ALFA: 702782976619.8191 Acurácia: 0.85\n",
            "Parâmetro : 100 Epocas:  1600 MSE: 0.08571428572055899 ALFA: 7738859893.739572 Acurácia: 0.91\n",
            "Parâmetro : 100 Epocas:  1700 MSE: 0.08571428571434192 ALFA: 4710294705626.121 Acurácia: 0.91\n",
            "Parâmetro : 100 Epocas:  1800 MSE: 0.06428571537954308 ALFA: 9413142.656775404 Acurácia: 0.94\n",
            "Parâmetro : 100 Epocas:  1900 MSE: 0.06428571428575372 ALFA: 784220403741.9944 Acurácia: 0.94\n",
            "Parâmetro : 100 Epocas:  2000 MSE: 0.06428571428573086 ALFA: 10527465950600.852 Acurácia: 0.94\n",
            "Parâmetro : 100 Epocas:  2100 MSE: 0.0642857142857169 ALFA: 14113357700444.934 Acurácia: 0.94\n",
            "Parâmetro : 100 Epocas:  2200 MSE: 0.05714285714285878 ALFA: 181941981088336.94 Acurácia: 0.94\n",
            "Parâmetro : 100 Epocas:  2300 MSE: 0.057142857142857766 ALFA: 367818973349593.75 Acurácia: 0.94\n",
            "Acurácia da Validação: 0.49\n",
            "---------------\n",
            "Fold:  2\n",
            "---------------\n",
            "Parâmetro : 100 Epocas:  100 MSE: 0.3877244280157755 ALFA: 590.041070998213 Acurácia: 0.62\n",
            "Parâmetro : 100 Epocas:  200 MSE: 0.35023532206550684 ALFA: 1290.7074417416234 Acurácia: 0.65\n",
            "Parâmetro : 100 Epocas:  300 MSE: 0.3098089608608909 ALFA: 51.025771907654295 Acurácia: 0.69\n",
            "Parâmetro : 100 Epocas:  400 MSE: 0.29286051861580625 ALFA: 61375.870161388346 Acurácia: 0.71\n",
            "Parâmetro : 100 Epocas:  500 MSE: 0.29285777095979265 ALFA: 1196895.470769837 Acurácia: 0.71\n",
            "Parâmetro : 100 Epocas:  600 MSE: 0.2714499670035099 ALFA: 233.59737823933085 Acurácia: 0.73\n",
            "Parâmetro : 100 Epocas:  700 MSE: 0.27142858065686365 ALFA: 9041590.94336605 Acurácia: 0.73\n",
            "Parâmetro : 100 Epocas:  800 MSE: 0.24285714492791297 ALFA: 26208684.35750957 Acurácia: 0.76\n",
            "Parâmetro : 100 Epocas:  900 MSE: 0.24285714405592315 ALFA: 65326368.07110253 Acurácia: 0.76\n",
            "Parâmetro : 100 Epocas:  1000 MSE: 0.24285714336168707 ALFA: 1588022793.4332042 Acurácia: 0.76\n",
            "Parâmetro : 100 Epocas:  1100 MSE: 0.2428571430377567 ALFA: 1299837814.0049927 Acurácia: 0.76\n",
            "Parâmetro : 100 Epocas:  1200 MSE: 0.24285714295430022 ALFA: 950459263.390736 Acurácia: 0.76\n",
            "Parâmetro : 100 Epocas:  1300 MSE: 0.24285714287052246 ALFA: 3770286284.0314355 Acurácia: 0.76\n",
            "Parâmetro : 100 Epocas:  1400 MSE: 0.24285714286563836 ALFA: 4680533081.944122 Acurácia: 0.76\n",
            "Parâmetro : 100 Epocas:  1500 MSE: 0.22142857143527553 ALFA: 18301640016.141113 Acurácia: 0.78\n",
            "Parâmetro : 100 Epocas:  1600 MSE: 0.2022030631539961 ALFA: 57.6589970754453 Acurácia: 0.81\n",
            "Parâmetro : 100 Epocas:  1700 MSE: 0.1928571428694641 ALFA: 7666495289.105012 Acurácia: 0.81\n",
            "Parâmetro : 100 Epocas:  1800 MSE: 0.18571428571502177 ALFA: 38556232322.163734 Acurácia: 0.81\n",
            "Parâmetro : 100 Epocas:  1900 MSE: 0.18571428571466744 ALFA: 392110201870.9972 Acurácia: 0.81\n",
            "Parâmetro : 100 Epocas:  2000 MSE: 0.16428571428581848 ALFA: 5848592194778.252 Acurácia: 0.84\n",
            "Parâmetro : 100 Epocas:  2100 MSE: 0.16428571428574756 ALFA: 1176113141703.7446 Acurácia: 0.84\n",
            "Parâmetro : 100 Epocas:  2200 MSE: 0.16428571428573874 ALFA: 1003356513354.7993 Acurácia: 0.84\n",
            "Parâmetro : 100 Epocas:  2300 MSE: 0.16428571428573072 ALFA: 3831915345068.8955 Acurácia: 0.84\n",
            "Parâmetro : 100 Epocas:  2400 MSE: 0.16428571428571825 ALFA: 11368500833255.027 Acurácia: 0.84\n",
            "Parâmetro : 100 Epocas:  2500 MSE: 0.1214285714854629 ALFA: 228636983.66031313 Acurácia: 0.88\n",
            "Parâmetro : 100 Epocas:  2600 MSE: 0.12142857142857168 ALFA: 322026114375722.1 Acurácia: 0.88\n",
            "Acurácia da Validação: 0.33\n",
            "Parâmetro: 100 Média Acurácia: 0.410714\n",
            "+++++++++++++++\n",
            "Tamanho da camada do meio da MLP:  150\n",
            "+++++++++++++++\n",
            "---------------\n",
            "Fold:  1\n",
            "---------------\n",
            "Parâmetro : 150 Epocas:  100 MSE: 0.8668743126763264 ALFA: 393.314260023011 Acurácia: 0.15\n",
            "Parâmetro : 150 Epocas:  200 MSE: 0.7427648079717183 ALFA: 1662.6297651878645 Acurácia: 0.27\n",
            "Parâmetro : 150 Epocas:  300 MSE: 0.6869056277612403 ALFA: 35.31310650153735 Acurácia: 0.31\n",
            "Parâmetro : 150 Epocas:  400 MSE: 0.623308683505094 ALFA: 126.07053976784485 Acurácia: 0.38\n",
            "Parâmetro : 150 Epocas:  500 MSE: 0.5430988373712785 ALFA: 35.657653594454004 Acurácia: 0.46\n",
            "Parâmetro : 150 Epocas:  600 MSE: 0.492857217953064 ALFA: 185328220.92140263 Acurácia: 0.51\n",
            "Parâmetro : 150 Epocas:  700 MSE: 0.44285716636024686 ALFA: 539084.0578763916 Acurácia: 0.56\n",
            "Parâmetro : 150 Epocas:  800 MSE: 0.40720634940249645 ALFA: 766.3754483062015 Acurácia: 0.59\n",
            "Parâmetro : 150 Epocas:  900 MSE: 0.3785714286606973 ALFA: 1481348378.1164951 Acurácia: 0.62\n",
            "Parâmetro : 150 Epocas:  1000 MSE: 0.3411884019382655 ALFA: 21.6893946415344 Acurácia: 0.66\n",
            "Parâmetro : 150 Epocas:  1100 MSE: 0.3357142857362686 ALFA: 10027320987.434364 Acurácia: 0.66\n",
            "Parâmetro : 150 Epocas:  1200 MSE: 0.30000000000673105 ALFA: 2539865699.0221562 Acurácia: 0.7\n",
            "Parâmetro : 150 Epocas:  1300 MSE: 0.2857142857143559 ALFA: 3042388391421.3867 Acurácia: 0.71\n",
            "Parâmetro : 150 Epocas:  1400 MSE: 0.2714285714285991 ALFA: 47855048284126.19 Acurácia: 0.73\n",
            "Parâmetro : 150 Epocas:  1500 MSE: 0.2642857142857314 ALFA: 6483781647083.047 Acurácia: 0.74\n",
            "Parâmetro : 150 Epocas:  1600 MSE: 0.23571428579289316 ALFA: 741174320.1920269 Acurácia: 0.76\n",
            "Parâmetro : 150 Epocas:  1700 MSE: 0.21428571428571472 ALFA: 675877539254207.0 Acurácia: 0.79\n",
            "Acurácia da Validação: 0.36\n",
            "---------------\n",
            "Fold:  2\n",
            "---------------\n",
            "Parâmetro : 150 Epocas:  100 MSE: 0.5676983846741892 ALFA: 177.53768395787884 Acurácia: 0.47\n",
            "Parâmetro : 150 Epocas:  200 MSE: 0.5529672085490922 ALFA: 36.80300064164393 Acurácia: 0.49\n",
            "Parâmetro : 150 Epocas:  300 MSE: 0.507594746025105 ALFA: 188.33660418001713 Acurácia: 0.49\n",
            "Parâmetro : 150 Epocas:  400 MSE: 0.4857411405639881 ALFA: 12102.772293624474 Acurácia: 0.51\n",
            "Parâmetro : 150 Epocas:  500 MSE: 0.44287306609906923 ALFA: 3423.1352834926533 Acurácia: 0.56\n",
            "Parâmetro : 150 Epocas:  600 MSE: 0.40014372871535503 ALFA: 66.27853313768995 Acurácia: 0.6\n",
            "Parâmetro : 150 Epocas:  700 MSE: 0.3500010708667126 ALFA: 190925.60382691832 Acurácia: 0.65\n",
            "Parâmetro : 150 Epocas:  800 MSE: 0.3142861076371382 ALFA: 1569536.9337192425 Acurácia: 0.69\n",
            "Parâmetro : 150 Epocas:  900 MSE: 0.31428578992914996 ALFA: 8646002.206903024 Acurácia: 0.69\n",
            "Parâmetro : 150 Epocas:  1000 MSE: 0.3142857376482346 ALFA: 9476242.621055407 Acurácia: 0.69\n",
            "Parâmetro : 150 Epocas:  1100 MSE: 0.3142857229246319 ALFA: 282018402.7715845 Acurácia: 0.69\n",
            "Parâmetro : 150 Epocas:  1200 MSE: 0.3142857174073289 ALFA: 190489927.42665866 Acurácia: 0.69\n",
            "Parâmetro : 150 Epocas:  1300 MSE: 0.3142857156487701 ALFA: 185692650.84358627 Acurácia: 0.69\n",
            "Parâmetro : 150 Epocas:  1400 MSE: 0.31428571496724067 ALFA: 811344541.4924778 Acurácia: 0.69\n",
            "Parâmetro : 150 Epocas:  1500 MSE: 0.3142857145868722 ALFA: 296803969.4404396 Acurácia: 0.69\n",
            "Parâmetro : 150 Epocas:  1600 MSE: 0.31428571446650627 ALFA: 1049996953.6053727 Acurácia: 0.69\n",
            "Parâmetro : 150 Epocas:  1700 MSE: 0.31428571440143 ALFA: 773480460.2671094 Acurácia: 0.69\n",
            "Parâmetro : 150 Epocas:  1800 MSE: 0.3001733942954722 ALFA: 39.39201293409217 Acurácia: 0.7\n",
            "Parâmetro : 150 Epocas:  1900 MSE: 0.3000000097079826 ALFA: 45790.371594390235 Acurácia: 0.7\n",
            "Parâmetro : 150 Epocas:  2000 MSE: 0.30000000225613277 ALFA: 152175.24334160943 Acurácia: 0.7\n",
            "Parâmetro : 150 Epocas:  2100 MSE: 0.2785714304538897 ALFA: 29025501.774641704 Acurácia: 0.72\n",
            "Parâmetro : 150 Epocas:  2200 MSE: 0.2785714286856525 ALFA: 37260984.51230988 Acurácia: 0.72\n",
            "Parâmetro : 150 Epocas:  2300 MSE: 0.2785714286164763 ALFA: 635841289.4439788 Acurácia: 0.72\n",
            "Parâmetro : 150 Epocas:  2400 MSE: 0.2785714285994672 ALFA: 2436046147.1949854 Acurácia: 0.72\n",
            "Parâmetro : 150 Epocas:  2500 MSE: 0.2785714285809498 ALFA: 147189617425.15106 Acurácia: 0.72\n"
          ]
        }
      ]
    },
    {
      "cell_type": "markdown",
      "metadata": {
        "id": "Jg3E2DMAj6w1"
      },
      "source": [
        "## HOG"
      ]
    },
    {
      "cell_type": "code",
      "execution_count": null,
      "metadata": {
        "id": "xybxk0QEnuVc"
      },
      "outputs": [],
      "source": [
        "#Normalização Z-score\n",
        "scaler = StandardScaler()\n",
        "scaler.fit(image_hog)\n",
        "x_scaler = scaler.transform(image_hog)"
      ]
    },
    {
      "cell_type": "code",
      "execution_count": null,
      "metadata": {
        "id": "38kFkTgN-nE0"
      },
      "outputs": [],
      "source": [
        "pca = PCA(n_components=50, random_state=42)\n",
        "pca.fit(x_scaler)\n",
        "X_pca = pca.transform(x_scaler)"
      ]
    },
    {
      "cell_type": "code",
      "execution_count": null,
      "metadata": {
        "id": "26Y4j2IC-nIG"
      },
      "outputs": [],
      "source": [
        "#Normalização Z-score\n",
        "scaler = StandardScaler()\n",
        "scaler.fit(X_pca)\n",
        "X_pca = scaler.transform(X_pca)"
      ]
    },
    {
      "cell_type": "code",
      "execution_count": null,
      "metadata": {
        "id": "mOv2toD_-nNM"
      },
      "outputs": [],
      "source": [
        "x_train, x_test, y_train, y_test = train_test_split(X_pca, target, test_size=0.30, random_state=42,stratify=target)"
      ]
    },
    {
      "cell_type": "code",
      "execution_count": null,
      "metadata": {
        "colab": {
          "base_uri": "https://localhost:8080/"
        },
        "id": "4ygS9Nkr-nQ-",
        "outputId": "7e3d8e20-7115-470b-e470-a110cf71f348"
      },
      "outputs": [
        {
          "output_type": "execute_result",
          "data": {
            "text/plain": [
              "((280, 50), (280, 40), (120, 50), (120, 40))"
            ]
          },
          "metadata": {},
          "execution_count": 35
        }
      ],
      "source": [
        "x_train.shape, y_train.shape, x_test.shape, y_test.shape"
      ]
    },
    {
      "cell_type": "code",
      "execution_count": null,
      "metadata": {
        "colab": {
          "base_uri": "https://localhost:8080/"
        },
        "id": "G4LscGSW-nVg",
        "outputId": "8640170a-34ba-4f3a-b7fd-4a92455532ef"
      },
      "outputs": [
        {
          "output_type": "stream",
          "name": "stdout",
          "text": [
            "Parâmetro : 100 Epocas:  100 MSE: 0.41813173073005006 ALFA: 4012.2793235841073 Acurácia: 0.6\n",
            "Parâmetro : 100 Epocas:  200 MSE: 0.3685018329587846 ALFA: 1290.7074417416234 Acurácia: 0.64\n",
            "Parâmetro : 100 Epocas:  300 MSE: 0.3289089344844218 ALFA: 693.9505213018442 Acurácia: 0.68\n",
            "Parâmetro : 100 Epocas:  400 MSE: 0.321676709682063 ALFA: 12371.07382426484 Acurácia: 0.68\n",
            "Parâmetro : 100 Epocas:  500 MSE: 0.30373488945737637 ALFA: 79.69385258524429 Acurácia: 0.7\n",
            "Parâmetro : 100 Epocas:  600 MSE: 0.258827524063439 ALFA: 68.70510989787344 Acurácia: 0.74\n",
            "Parâmetro : 100 Epocas:  700 MSE: 0.2571868863984063 ALFA: 505.86699900281064 Acurácia: 0.74\n",
            "Parâmetro : 100 Epocas:  800 MSE: 0.22548540753824128 ALFA: 212.3499752072702 Acurácia: 0.78\n",
            "Parâmetro : 100 Epocas:  900 MSE: 0.21428868686592792 ALFA: 13290.683603265185 Acurácia: 0.79\n",
            "Parâmetro : 100 Epocas:  1000 MSE: 0.18072325398515193 ALFA: 16.268572480617536 Acurácia: 0.83\n",
            "Parâmetro : 100 Epocas:  1100 MSE: 0.13571442192697386 ALFA: 7616237.191432444 Acurácia: 0.86\n",
            "Parâmetro : 100 Epocas:  1200 MSE: 0.12143003929713443 ALFA: 4350.8572183708 Acurácia: 0.88\n",
            "Parâmetro : 100 Epocas:  1300 MSE: 0.1107143126708966 ALFA: 44183042.39098449 Acurácia: 0.89\n",
            "Parâmetro : 100 Epocas:  1400 MSE: 0.09644393885807022 ALFA: 743.9506904994976 Acurácia: 0.9\n",
            "Parâmetro : 100 Epocas:  1500 MSE: 0.0964285717285365 ALFA: 686311500.6052889 Acurácia: 0.9\n",
            "Parâmetro : 100 Epocas:  1600 MSE: 0.08928571519558108 ALFA: 15114960.729955528 Acurácia: 0.91\n",
            "Parâmetro : 100 Epocas:  1700 MSE: 0.06785714286621422 ALFA: 6324858613.511634 Acurácia: 0.93\n",
            "Parâmetro : 100 Epocas:  1800 MSE: 0.06785714285723797 ALFA: 8225329562061.598 Acurácia: 0.93\n",
            "Parâmetro : 100 Epocas:  1900 MSE: 0.03214285714288325 ALFA: 3136881614967.9775 Acurácia: 0.97\n",
            "Parâmetro : 100 Epocas:  2000 MSE: 0.021428571428571686 ALFA: 5988958407452930.0 Acurácia: 0.98\n",
            "Acurácia do Teste HOG: 0.89\n"
          ]
        }
      ],
      "source": [
        "# Treino com melhor Parâmetro \n",
        "A, B = rna(x_train, y_train, 100, epoca=3000)\n",
        "\n",
        "#Teste \n",
        "x_test_one = np.column_stack((x_test,np.ones(x_test.shape[0])))\n",
        "Y = calculo_saida(x_test_one, A, B, x_test.shape[0])\n",
        "print(\"Acurácia do Teste HOG:\",round(accuracy_score(preditor_sigmoide(Y), preditor_sigmoide(y_test)),2))"
      ]
    },
    {
      "cell_type": "code",
      "execution_count": null,
      "metadata": {
        "id": "y82IolhpnuqC",
        "colab": {
          "base_uri": "https://localhost:8080/"
        },
        "outputId": "27321ff0-6586-42ab-8d77-92cac4a115cd"
      },
      "outputs": [
        {
          "output_type": "execute_result",
          "data": {
            "text/plain": [
              "array([ 9, 37, 23, 30, 22, 15, 22,  2, 19,  2, 34,  4,  3, 14,  1, 17, 13,\n",
              "        5, 32,  7,  4,  3,  5,  0,  5, 18,  9, 31, 28, 17, 30, 32, 12,  6,\n",
              "       24, 14, 36, 25, 21, 32,  7, 15, 11, 10, 35, 35, 26, 20, 34, 14, 30,\n",
              "       28,  9,  4, 36, 20, 11, 25, 33, 24,  8, 29, 13, 25, 13, 38,  1, 29,\n",
              "       21, 31, 19, 19, 39, 39,  6, 10, 16, 33, 31,  4,  8, 17,  7,  8,  0,\n",
              "       27, 22, 19, 33, 29, 16, 28, 38, 14, 10, 16,  1, 11, 18, 37, 12, 27,\n",
              "       27, 30, 38, 18, 31, 23,  0, 26, 26, 35, 24, 37,  6, 34, 31, 20, 15,\n",
              "       37])"
            ]
          },
          "metadata": {},
          "execution_count": 37
        }
      ],
      "source": [
        "preditor_sigmoide(Y)"
      ]
    },
    {
      "cell_type": "code",
      "execution_count": null,
      "metadata": {
        "id": "CmpRv8zUnu0w"
      },
      "outputs": [],
      "source": [
        "from sklearn import svm\n",
        "from sklearn.model_selection import GridSearchCV"
      ]
    },
    {
      "cell_type": "code",
      "source": [
        "%%time\n",
        "param_grid={'C':[0.1,1,10,100],'gamma':[0.0001,0.001,0.1,1],'kernel':['rbf','poly','sigmoid']} #'linea'\n",
        "svc=svm.SVC(probability=True)\n",
        "model=GridSearchCV(svc,param_grid)\n",
        "model.fit(x_train,preditor_sigmoide(y_train))\n",
        "model.best_params_"
      ],
      "metadata": {
        "colab": {
          "base_uri": "https://localhost:8080/"
        },
        "id": "QHEa3LTELqf1",
        "outputId": "b87200ac-9d74-44d2-834f-436c622e8224"
      },
      "execution_count": null,
      "outputs": [
        {
          "output_type": "stream",
          "name": "stdout",
          "text": [
            "CPU times: user 15.6 s, sys: 42.2 ms, total: 15.6 s\n",
            "Wall time: 15.5 s\n"
          ]
        },
        {
          "output_type": "execute_result",
          "data": {
            "text/plain": [
              "{'C': 100, 'gamma': 0.001, 'kernel': 'rbf'}"
            ]
          },
          "metadata": {},
          "execution_count": 41
        }
      ]
    },
    {
      "cell_type": "code",
      "source": [
        "y_train_pred = model.predict(x_train)\n",
        "y_test_pred=model.predict(x_test)\n",
        "\n",
        "print(\"Acurácia do Treinamento:\", accuracy_score(preditor_sigmoide(y_train), y_train_pred))\n",
        "print(\"Acurácia do Teste:\", accuracy_score(preditor_sigmoide(y_test), y_test_pred))"
      ],
      "metadata": {
        "colab": {
          "base_uri": "https://localhost:8080/"
        },
        "id": "Mgc4887tLqjk",
        "outputId": "a34f315d-dc4e-47dd-b4c0-81cefa020ade"
      },
      "execution_count": null,
      "outputs": [
        {
          "output_type": "stream",
          "name": "stdout",
          "text": [
            "Acurácia do Treinamento: 1.0\n",
            "Acurácia do Teste: 0.9833333333333333\n"
          ]
        }
      ]
    },
    {
      "cell_type": "code",
      "source": [
        "y_test_pred"
      ],
      "metadata": {
        "colab": {
          "base_uri": "https://localhost:8080/"
        },
        "id": "hNHhVMWhLqnj",
        "outputId": "e136cee7-2470-4fee-a689-571bdbe8303a"
      },
      "execution_count": null,
      "outputs": [
        {
          "output_type": "execute_result",
          "data": {
            "text/plain": [
              "array([ 9, 21, 23, 30, 22, 15, 22,  2,  3,  2, 39,  4,  3, 14,  1, 17, 13,\n",
              "       25, 32,  9,  4,  3,  5, 23,  5, 18,  9, 31, 28, 17, 30, 32, 12,  6,\n",
              "       24, 14, 36, 36, 21, 32,  7, 15, 11, 10, 35, 35, 26, 20, 34, 14, 30,\n",
              "       28,  9,  5, 36, 20, 11, 34, 33, 24,  8, 29, 13, 25, 13, 38,  1, 29,\n",
              "       21, 31, 19, 19, 39, 39,  6, 10, 16, 33,  0,  2,  8, 17,  7,  8,  0,\n",
              "       27, 22, 19, 33, 29, 16, 28, 38, 25, 10, 16,  1, 11, 18, 37, 12, 27,\n",
              "       27, 30, 38, 18, 31, 23,  0, 26, 26, 35, 24, 37,  6, 34,  4, 20, 15,\n",
              "       37])"
            ]
          },
          "metadata": {},
          "execution_count": 44
        }
      ]
    },
    {
      "cell_type": "code",
      "source": [
        "from sklearn.linear_model import LogisticRegression\n",
        "logit = LogisticRegression()\n",
        "logit.fit(x_train, preditor_sigmoide(y_train))\n",
        "y_train_pred = logit.predict(x_train)\n",
        "y_test_pred= logit.predict(x_test)\n",
        "\n",
        "print(\"Acurácia do Treinamento:\", accuracy_score(preditor_sigmoide(y_train), y_train_pred))\n",
        "print(\"Acurácia do Teste:\", accuracy_score(preditor_sigmoide(y_test), y_test_pred))\n"
      ],
      "metadata": {
        "colab": {
          "base_uri": "https://localhost:8080/"
        },
        "id": "9GM0tcDLNIxR",
        "outputId": "5dcee224-b5e2-4552-d394-221bf9078e50"
      },
      "execution_count": null,
      "outputs": [
        {
          "output_type": "stream",
          "name": "stdout",
          "text": [
            "Acurácia do Treinamento: 1.0\n",
            "Acurácia do Teste: 0.9666666666666667\n"
          ]
        }
      ]
    },
    {
      "cell_type": "code",
      "source": [
        "y_test_pred"
      ],
      "metadata": {
        "colab": {
          "base_uri": "https://localhost:8080/"
        },
        "id": "BVUJSE2GNI_v",
        "outputId": "67bfae5c-3ad7-43b3-b680-1959433b90da"
      },
      "execution_count": null,
      "outputs": [
        {
          "output_type": "execute_result",
          "data": {
            "text/plain": [
              "array([ 9, 21, 23, 30, 22, 15, 22,  2,  3,  2, 39,  4,  3, 14,  1, 17, 13,\n",
              "       25, 32,  2,  4,  3,  5, 23,  5, 18,  9, 31, 28, 17, 30, 32, 12,  6,\n",
              "       24, 14, 36, 36, 21, 32,  7, 15, 11, 10, 35, 35, 26, 20, 34, 14, 30,\n",
              "       28,  9,  5, 36, 22, 11, 34, 33, 24,  8, 29, 13, 25, 13, 38,  1, 29,\n",
              "       21, 31, 19, 19, 39, 39,  6, 10, 16, 33,  0,  2,  8, 17,  7,  8,  0,\n",
              "       27, 22, 19, 33, 29, 16, 28, 38, 25, 10, 16,  1, 11, 18, 37, 12, 27,\n",
              "       27, 30, 38, 18, 31, 23,  0, 26, 26, 35, 24, 37,  6, 34,  4, 22, 15,\n",
              "       37])"
            ]
          },
          "metadata": {},
          "execution_count": 48
        }
      ]
    }
  ],
  "metadata": {
    "accelerator": "GPU",
    "colab": {
      "machine_shape": "hm",
      "provenance": [],
      "include_colab_link": true
    },
    "gpuClass": "standard",
    "kernelspec": {
      "display_name": "Python 3",
      "language": "python",
      "name": "python3"
    },
    "language_info": {
      "codemirror_mode": {
        "name": "ipython",
        "version": 3
      },
      "file_extension": ".py",
      "mimetype": "text/x-python",
      "name": "python",
      "nbconvert_exporter": "python",
      "pygments_lexer": "ipython3",
      "version": "3.7.10"
    },
    "varInspector": {
      "cols": {
        "lenName": 16,
        "lenType": 16,
        "lenVar": 40
      },
      "kernels_config": {
        "python": {
          "delete_cmd_postfix": "",
          "delete_cmd_prefix": "del ",
          "library": "var_list.py",
          "varRefreshCmd": "print(var_dic_list())"
        },
        "r": {
          "delete_cmd_postfix": ") ",
          "delete_cmd_prefix": "rm(",
          "library": "var_list.r",
          "varRefreshCmd": "cat(var_dic_list()) "
        }
      },
      "types_to_exclude": [
        "module",
        "function",
        "builtin_function_or_method",
        "instance",
        "_Feature"
      ],
      "window_display": false
    }
  },
  "nbformat": 4,
  "nbformat_minor": 0
}
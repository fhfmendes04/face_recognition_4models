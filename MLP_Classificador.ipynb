{
  "cells": [
    {
      "cell_type": "markdown",
      "metadata": {
        "id": "view-in-github",
        "colab_type": "text"
      },
      "source": [
        "<a href=\"https://colab.research.google.com/github/fhfmendes04/face_recognition_4models/blob/main/MLP_Classificador.ipynb\" target=\"_parent\"><img src=\"https://colab.research.google.com/assets/colab-badge.svg\" alt=\"Open In Colab\"/></a>"
      ]
    },
    {
      "cell_type": "code",
      "execution_count": 36,
      "metadata": {
        "id": "0jNKeNAIcwEN"
      },
      "outputs": [],
      "source": [
        "import numpy as np\n",
        "import pandas as pd\n",
        "import matplotlib.pyplot as plt\n",
        "from tensorflow import keras\n",
        "from sklearn.preprocessing import StandardScaler\n",
        "import tensorflow as tf\n",
        "import cv2\n",
        "from PIL import Image\n",
        "from skimage import data, exposure\n",
        "from skimage.feature import hog,local_binary_pattern\n",
        "from sklearn.decomposition import PCA\n",
        "from sklearn.metrics import classification_report\n",
        "from sklearn.model_selection import train_test_split\n",
        "\n",
        "\n",
        "from sklearn.ensemble import RandomForestClassifier\n",
        "from sklearn.neighbors import KNeighborsClassifier\n",
        "from sklearn.linear_model import LogisticRegression\n",
        "\n",
        "#from Models import ANN, Multinomial_LogReg\n",
        "\n",
        "import warnings\n",
        "warnings.filterwarnings('ignore')\n",
        "\n",
        "from tqdm import tqdm"
      ]
    },
    {
      "cell_type": "code",
      "execution_count": 2,
      "metadata": {
        "colab": {
          "base_uri": "https://localhost:8080/"
        },
        "id": "YTZLVvn_cs3U",
        "outputId": "04dd778d-275f-4937-c72c-4cac73548ba4"
      },
      "outputs": [
        {
          "output_type": "stream",
          "name": "stdout",
          "text": [
            "downloading Olivetti faces from https://ndownloader.figshare.com/files/5976027 to /root/scikit_learn_data\n"
          ]
        }
      ],
      "source": [
        "from sklearn.datasets import fetch_olivetti_faces\n",
        "dataset = fetch_olivetti_faces(random_state=42)"
      ]
    },
    {
      "cell_type": "code",
      "execution_count": 3,
      "metadata": {
        "id": "tBSAH3Q7j6UQ"
      },
      "outputs": [],
      "source": [
        "X = dataset.images\n",
        "y = dataset.target"
      ]
    },
    {
      "cell_type": "code",
      "source": [
        "from collections import Counter \n",
        "d = Counter(y)\n",
        "print(\"Quantidade de pessoas:\",len(d))\n",
        "print(d)"
      ],
      "metadata": {
        "colab": {
          "base_uri": "https://localhost:8080/"
        },
        "id": "vjPFrNYDxNil",
        "outputId": "85427908-ab19-4ff2-f4e7-eeeddec3d138"
      },
      "execution_count": 4,
      "outputs": [
        {
          "output_type": "stream",
          "name": "stdout",
          "text": [
            "Quantidade de pessoas: 40\n",
            "Counter({0: 10, 1: 10, 2: 10, 3: 10, 4: 10, 5: 10, 6: 10, 7: 10, 8: 10, 9: 10, 10: 10, 11: 10, 12: 10, 13: 10, 14: 10, 15: 10, 16: 10, 17: 10, 18: 10, 19: 10, 20: 10, 21: 10, 22: 10, 23: 10, 24: 10, 25: 10, 26: 10, 27: 10, 28: 10, 29: 10, 30: 10, 31: 10, 32: 10, 33: 10, 34: 10, 35: 10, 36: 10, 37: 10, 38: 10, 39: 10})\n"
          ]
        }
      ]
    },
    {
      "cell_type": "markdown",
      "source": [
        "# Entrada: vetor de imagem e saída(one-hot) para MLP."
      ],
      "metadata": {
        "id": "nFXtEbSYkFoR"
      }
    },
    {
      "cell_type": "code",
      "source": [
        "def lbp_features(X): \n",
        "    METHOD = 'uniform'\n",
        "    radius = 1\n",
        "    n_points = 10\n",
        "    fd_list = []\n",
        "    for row in X:\n",
        "        lbp_image = local_binary_pattern(row, n_points, radius, METHOD)\n",
        "        fd_list.append(lbp_image.flatten())\n",
        "    \n",
        "    return np.array(fd_list)"
      ],
      "metadata": {
        "id": "D26GhWGhUJ-I"
      },
      "execution_count": 18,
      "outputs": []
    },
    {
      "cell_type": "code",
      "source": [
        "image_lbp= lbp_features(X)\n",
        "print(image_lbp.shape)"
      ],
      "metadata": {
        "colab": {
          "base_uri": "https://localhost:8080/"
        },
        "id": "YL09Xx2yUNQW",
        "outputId": "13192021-d9c0-4580-ed6e-4f462f1ade31"
      },
      "execution_count": 21,
      "outputs": [
        {
          "output_type": "stream",
          "name": "stdout",
          "text": [
            "(400, 4096)\n"
          ]
        }
      ]
    },
    {
      "cell_type": "code",
      "source": [
        "def hog_features(X): #====>>>>>>Usei a segunda saída da funcção que é uma imagem.\n",
        "    fd_list = []\n",
        "    for row in X:\n",
        "        _, hog_image = hog(row, orientations=2, pixels_per_cell=(4, 4), cells_per_block=(4, 4), visualize=True)\n",
        "        fd_list.append(hog_image.flatten())\n",
        "    \n",
        "    return np.array(fd_list)"
      ],
      "metadata": {
        "id": "_r6KNGxhUNcf"
      },
      "execution_count": 22,
      "outputs": []
    },
    {
      "cell_type": "code",
      "source": [
        "image_hog = hog_features(X)\n",
        "print(image_hog.shape)"
      ],
      "metadata": {
        "colab": {
          "base_uri": "https://localhost:8080/"
        },
        "id": "ZdJVVvJDUVup",
        "outputId": "74482357-14f5-46e8-9d4c-e88d2bf63a62"
      },
      "execution_count": 23,
      "outputs": [
        {
          "output_type": "stream",
          "name": "stdout",
          "text": [
            "(400, 4096)\n"
          ]
        }
      ]
    },
    {
      "cell_type": "code",
      "source": [
        "print(\"HOG:\",image_hog.max(), image_hog.min())\n",
        "print(\"LBP:\", image_lbp.max(), image_lbp.min())"
      ],
      "metadata": {
        "colab": {
          "base_uri": "https://localhost:8080/"
        },
        "id": "tLWe57YxVf5v",
        "outputId": "7c3228fe-cf0b-492a-c251-e14af146c351"
      },
      "execution_count": 24,
      "outputs": [
        {
          "output_type": "stream",
          "name": "stdout",
          "text": [
            "HOG: 0.41988638043403625 0.0\n",
            "LBP: 11.0 0.0\n"
          ]
        }
      ]
    },
    {
      "cell_type": "code",
      "source": [
        "# transformar categorias em one-hot-encoding: Saída\n",
        "saida = y.max()+1\n",
        "print(\"Quantidade de pessoas:\",saida)\n",
        "target = keras.utils.to_categorical(y, saida)"
      ],
      "metadata": {
        "colab": {
          "base_uri": "https://localhost:8080/"
        },
        "id": "ppRmbSEhydjE",
        "outputId": "4894f6cf-2b9c-4c1f-b73b-c01de1367169"
      },
      "execution_count": 25,
      "outputs": [
        {
          "output_type": "stream",
          "name": "stdout",
          "text": [
            "Quantidade de pessoas: 40\n"
          ]
        }
      ]
    },
    {
      "cell_type": "markdown",
      "source": [
        "# MLP\n"
      ],
      "metadata": {
        "id": "kHUe_NubAK32"
      }
    },
    {
      "cell_type": "code",
      "source": [
        "from sklearn.model_selection import KFold\n",
        "from numpy.random import seed\n",
        "import plotly.express as px\n",
        "from sklearn.metrics import accuracy_score"
      ],
      "metadata": {
        "id": "6eGpD36694Eg"
      },
      "execution_count": 38,
      "outputs": []
    },
    {
      "cell_type": "code",
      "source": [
        "def bissecao_rna(dEdA, dEdB, A, B, X, Yd, N):\n",
        "    \n",
        "    def h_linha(au, dEdA, dEdB, dv, X, Yd, N):\n",
        "      An = A - au*dEdA;\n",
        "      Bn = B - au*dEdB;\n",
        "\n",
        "      dJdAn, dJdBn = calculo_gradiente(X, Yd, An, Bn, N)\n",
        "      g=np.array((dJdAn.flatten(),dJdBn.flatten()))\n",
        "      \n",
        "      return  (np.sum(dv[0] * g[0]) + np.sum(dv[1] * g[1]))\n",
        "    \n",
        "    dv = np.array((-dEdA.flatten(),-dEdB.flatten())) \n",
        "    \n",
        "    au = np.random.rand() # Chute inicial\n",
        "\n",
        "    al = 0.0\n",
        "    au = np.random.rand() # Chute inicial\n",
        "    it = 0\n",
        "\n",
        "    hl = h_linha(au, dEdA, dEdB, dv, X, Yd, N)\n",
        "\n",
        "    while hl < 0: #Verifica au está acima de zero.\n",
        "      al = au\n",
        "      au = au * 2\n",
        "      hl = h_linha(au, dEdA, dEdB, dv, X, Yd, N)\n",
        "      \n",
        "    a_medio = (al + au) / 2\n",
        "\n",
        "    hl = h_linha(au, dEdA, dEdB, dv, X, Yd, N)\n",
        "\n",
        "    itmax = np.int(np.ceil(np.log(au-al) - np.log(1e-5))/np.log(2)) #interações.\n",
        "\n",
        "    #while (it < itmax) and ((au - al)<=1.0) and (np.abs(hl)>10.0):\n",
        "    while (it < itmax):\n",
        "      it += 1\n",
        "      if hl > 0:\n",
        "        au = a_medio\n",
        "      elif hl < 0:\n",
        "        al = a_medio\n",
        "      elif hl == 0:\n",
        "        return a_medio\n",
        "      \n",
        "      a_medio = (al + au) / 2\n",
        "      hl = h_linha(au, dEdA, dEdB, dv, X, Yd, N)\n",
        "\n",
        "    return a_medio"
      ],
      "metadata": {
        "id": "J3QOPiq17rra"
      },
      "execution_count": 26,
      "outputs": []
    },
    {
      "cell_type": "code",
      "source": [
        "def calculo_saida(X, A, B, N):\n",
        "  '''\n",
        "    Calcula as predições para entradas usando argmax()\n",
        "    X = Entrada da rede.\n",
        "    A = Pesos da rede da camada do meio.\n",
        "    b = Pesos da rede da camada de sáida.\n",
        "    N = Número de instâncias do X.\n",
        "    ________\n",
        "    return: o vetor de saída com os valores das classes.\n",
        "  '''\n",
        "  Zin = np.dot(X, A.T)\n",
        "  Z = 1/(1+np.exp(-Zin))\n",
        "\n",
        "  Z = np.column_stack((Z,np.ones(N)))\n",
        "  Yin = np.dot(Z, B.T)\n",
        "  Y = 1/(1+np.exp(-Yin))\n",
        "\n",
        "  return Y"
      ],
      "metadata": {
        "id": "I1YHpjCu7r5Q"
      },
      "execution_count": 27,
      "outputs": []
    },
    {
      "cell_type": "code",
      "source": [
        "def calculo_gradiente(X, Yd, A, B, N):\n",
        "  Zin = np.dot(X, A.T) #(150,5)x(5xh)=(150,h)\n",
        "  Z = 1/(1+np.exp(-Zin)) \n",
        "\n",
        "  Zb = np.column_stack((Z,np.ones(N))) #(150,h+1)\n",
        "  Yin = np.dot(Zb, B.T) #(150, h+1)x(h+1,3) = (150,3) ns=3\n",
        "  Y = 1/(1+np.exp(-Yin)) #(150,3)\n",
        "\n",
        "  erro = Y -Yd \n",
        "  dg = (1-Y)*Y # (150,3) Derivada\n",
        "  df = (1-Z)*Z # (150,h)\n",
        "  \n",
        "\n",
        "  dEdB = 1/N * np.dot((erro * dg).T, Zb) #(3,150)x(150,h+1)= (3,h+1)\n",
        "\n",
        "  dEdZ = np.dot((erro* dg), B[:,:-1]) # retira o bias da miltiplicacao # (150,3)x(3,h)=(150, h)\n",
        "  \n",
        "\n",
        "  dEdA = 1/N * np.dot((dEdZ* df).T, X)  #(h,150)x(150,5)= (hx150)\n",
        "\n",
        "  return dEdA, dEdB"
      ],
      "metadata": {
        "id": "mN4vfJoD7r8c"
      },
      "execution_count": 28,
      "outputs": []
    },
    {
      "cell_type": "code",
      "source": [
        "def preditor_sigmoide(Y):\n",
        "  '''\n",
        "    Calcula as predições para entradas usando argmax()\n",
        "    Y = relação com as saídas\n",
        "    ________\n",
        "    return: o vetor do resultado. \n",
        "  '''\n",
        "  Y = Y.argmax(axis=1)\n",
        "  return Y"
      ],
      "metadata": {
        "id": "u5NT29rY7sBX"
      },
      "execution_count": 29,
      "outputs": []
    },
    {
      "cell_type": "code",
      "source": [
        "def rna(X, Yd, h, taxa_aprendizado_fixa=None, verbose = False, epoca = 3000):\n",
        "  N, ne = X.shape\n",
        "  ns = Yd.shape[1]\n",
        "\n",
        "  X = np.column_stack((X,np.ones(N)))\n",
        "  seed(42)\n",
        "  A = np.random.rand(h,(ne+1)) / 2  \n",
        "  B = np.random.rand(ns,(h+1)) / 2  \n",
        "\n",
        "  Y = calculo_saida(X, A, B, N)\n",
        "  erro = Y - Yd\n",
        "\n",
        "\n",
        "  MSE = 1/N * np.sum(erro*erro)\n",
        "  \n",
        "  ep = 0\n",
        "  epmax = epoca\n",
        "  E = 1e-2\n",
        "  MSE_ant = 0\n",
        "  MSE_atual = 0\n",
        "  soma_MSE = 0\n",
        "  \n",
        "  a,b = [],[]# Utilizada no Gráfico.\n",
        "\n",
        "  g =  np.concatenate([A.flatten(), B.flatten()])\n",
        "\n",
        "  gradiente_norm = 1\n",
        "\n",
        "  while (ep<epmax) and (soma_MSE < 20): #and (np.linalg.norm(g)>1e-7):\n",
        "    ep += 1\n",
        "    dEdA, dEdB = calculo_gradiente(X, Yd, A, B, N)\n",
        "\n",
        "    if taxa_aprendizado_fixa is None:\n",
        "      alfa = bissecao_rna(dEdA, dEdB, A, B, X, Yd, N)\n",
        "    else:\n",
        "      alfa = taxa_aprendizado_fixa\n",
        "\n",
        "    A = A - alfa*dEdA\n",
        "    B = B - alfa*dEdB\n",
        "\n",
        "    #g =  np.concatenate([dEdA.flatten(), dEdB.flatten()])\n",
        "\n",
        "    Y = calculo_saida(X, A, B, N)\n",
        "    erro = Y - Yd\n",
        "    \n",
        "    \n",
        "    MSE = 1/N * np.sum(erro*erro)\n",
        "\n",
        "    if ((ep % 100)==0):\n",
        "      print(\"Parâmetro :\", h, \"Epocas: \",ep, \"MSE:\", MSE, \"ALFA:\", alfa, \n",
        "          \"Acurácia:\",round(accuracy_score(preditor_sigmoide(Y), preditor_sigmoide(Yd)),2))\n",
        "    if verbose:\n",
        "      a.append(ep)\n",
        "      b.append(MSE)\n",
        "\n",
        "    if MSE_ant == MSE: #Conta a quantidade de MSE iguais\n",
        "      if MSE_ant == MSE_atual:\n",
        "        soma_MSE +=1\n",
        "      else:\n",
        "        soma_MSE = 1\n",
        "        MSE_atual = MSE\n",
        "    else:  \n",
        "      MSE_ant = MSE\n",
        "\n",
        "  if verbose:\n",
        "    fig = px.line(x= a, y=b, title='Gráfico - MLP()')\n",
        "    fig.show()\n",
        "\n",
        "  return A,B"
      ],
      "metadata": {
        "id": "MBHPSxjx7sHo"
      },
      "execution_count": 93,
      "outputs": []
    },
    {
      "cell_type": "markdown",
      "source": [
        "## LBP"
      ],
      "metadata": {
        "id": "LsgIlsG_h7Ro"
      }
    },
    {
      "cell_type": "code",
      "source": [
        "#Normalização Z-score\n",
        "scaler = StandardScaler()\n",
        "scaler.fit(image_lbp)\n",
        "x_scaler = scaler.transform(image_lbp)"
      ],
      "metadata": {
        "id": "cFr3NEhY8XPm"
      },
      "execution_count": 104,
      "outputs": []
    },
    {
      "cell_type": "code",
      "source": [
        "pca = PCA(n_components=50, random_state=42)\n",
        "pca.fit(x_scaler)\n",
        "X_pca = pca.transform(x_scaler)"
      ],
      "metadata": {
        "id": "JoncQRep8wqK"
      },
      "execution_count": 105,
      "outputs": []
    },
    {
      "cell_type": "code",
      "source": [
        "soma = 0\n",
        "for i in range(0, len(pca.explained_variance_ratio_)):\n",
        "  soma += pca.explained_variance_ratio_[i]\n",
        "  print(f'PC{ i+1}: {pca.explained_variance_ratio_[i]} - {round(soma*100,2)}%')"
      ],
      "metadata": {
        "colab": {
          "base_uri": "https://localhost:8080/"
        },
        "id": "Lps3-MU_8XTC",
        "outputId": "5798cbbb-89a7-4267-d8e7-c12d90320d4f"
      },
      "execution_count": 106,
      "outputs": [
        {
          "output_type": "stream",
          "name": "stdout",
          "text": [
            "PC1: 0.00852616691776132 - 0.85%\n",
            "PC2: 0.007508200836762718 - 1.6%\n",
            "PC3: 0.007210836877550287 - 2.32%\n",
            "PC4: 0.006947245276997558 - 3.02%\n",
            "PC5: 0.006486965282585254 - 3.67%\n",
            "PC6: 0.006140078049782044 - 4.28%\n",
            "PC7: 0.005945486495895884 - 4.88%\n",
            "PC8: 0.005834366352587083 - 5.46%\n",
            "PC9: 0.0056727536328024745 - 6.03%\n",
            "PC10: 0.005612148204464098 - 6.59%\n",
            "PC11: 0.005393190610877594 - 7.13%\n",
            "PC12: 0.005360359898486351 - 7.66%\n",
            "PC13: 0.005236744640906278 - 8.19%\n",
            "PC14: 0.005118741933208122 - 8.7%\n",
            "PC15: 0.00510838364907438 - 9.21%\n",
            "PC16: 0.004917697550830504 - 9.7%\n",
            "PC17: 0.004901386614667453 - 10.19%\n",
            "PC18: 0.0048510048000801505 - 10.68%\n",
            "PC19: 0.004798971686521533 - 11.16%\n",
            "PC20: 0.004684729044474385 - 11.63%\n",
            "PC21: 0.004642511675488156 - 12.09%\n",
            "PC22: 0.004624989078216922 - 12.55%\n",
            "PC23: 0.0045980029531676745 - 13.01%\n",
            "PC24: 0.004513707436238474 - 13.46%\n",
            "PC25: 0.004451966184854102 - 13.91%\n",
            "PC26: 0.00443816812234517 - 14.35%\n",
            "PC27: 0.004391811193293804 - 14.79%\n",
            "PC28: 0.004322152335132418 - 15.22%\n",
            "PC29: 0.004304684580800761 - 15.65%\n",
            "PC30: 0.00428419886907963 - 16.08%\n",
            "PC31: 0.004234825411863529 - 16.51%\n",
            "PC32: 0.004205784342499095 - 16.93%\n",
            "PC33: 0.004160024244005124 - 17.34%\n",
            "PC34: 0.004094227540615925 - 17.75%\n",
            "PC35: 0.0040665567214770255 - 18.16%\n",
            "PC36: 0.004053843276235029 - 18.56%\n",
            "PC37: 0.003988702913446171 - 18.96%\n",
            "PC38: 0.003966220711679207 - 19.36%\n",
            "PC39: 0.0039320277691361006 - 19.75%\n",
            "PC40: 0.0039287142676935624 - 20.15%\n",
            "PC41: 0.0038784351686498254 - 20.53%\n",
            "PC42: 0.003848026056283426 - 20.92%\n",
            "PC43: 0.0037843006616329706 - 21.3%\n",
            "PC44: 0.003729621198738164 - 21.67%\n",
            "PC45: 0.0037240568136613964 - 22.04%\n",
            "PC46: 0.0036691920219109352 - 22.41%\n",
            "PC47: 0.00363809705391217 - 22.77%\n",
            "PC48: 0.003627539511697344 - 23.14%\n",
            "PC49: 0.0035920294150788195 - 23.49%\n",
            "PC50: 0.0035289741763312042 - 23.85%\n"
          ]
        }
      ]
    },
    {
      "cell_type": "code",
      "source": [
        "#Normalização Z-score\n",
        "scaler = StandardScaler()\n",
        "scaler.fit(X_pca)\n",
        "X_pca = scaler.transform(X_pca)"
      ],
      "metadata": {
        "id": "X1zCQKxC8XXt"
      },
      "execution_count": 107,
      "outputs": []
    },
    {
      "cell_type": "code",
      "source": [
        "x_train, x_test, y_train, y_test = train_test_split(X_pca, target, test_size=0.30, random_state=42,stratify=target)"
      ],
      "metadata": {
        "id": "Y49h9gNS8XcG"
      },
      "execution_count": 108,
      "outputs": []
    },
    {
      "cell_type": "code",
      "source": [
        "x_train.shape, y_train.shape, x_test.shape, y_test.shape"
      ],
      "metadata": {
        "colab": {
          "base_uri": "https://localhost:8080/"
        },
        "id": "VBm6kLQZ-fqk",
        "outputId": "8da1cc42-ab3b-4297-b807-da5c1966092a"
      },
      "execution_count": 109,
      "outputs": [
        {
          "output_type": "execute_result",
          "data": {
            "text/plain": [
              "((280, 50), (280, 40), (120, 50), (120, 40))"
            ]
          },
          "metadata": {},
          "execution_count": 109
        }
      ]
    },
    {
      "cell_type": "code",
      "source": [
        "# Treino com melhor Parâmetro \n",
        "A, B = rna(x_train, y_train, 150, epoca=5000)\n",
        "\n",
        "#Teste \n",
        "x_test_one = np.column_stack((x_test,np.ones(x_test.shape[0])))\n",
        "Y = calculo_saida(x_test_one, A, B, x_test.shape[0])\n",
        "print(\"Acurácia do Teste LBP:\",round(accuracy_score(preditor_sigmoide(Y), preditor_sigmoide(y_test)),2))"
      ],
      "metadata": {
        "colab": {
          "base_uri": "https://localhost:8080/"
        },
        "id": "33agCvcF8Xgh",
        "outputId": "72c97a50-3859-42d3-c75c-5fe40a97eb75"
      },
      "execution_count": 110,
      "outputs": [
        {
          "output_type": "stream",
          "name": "stdout",
          "text": [
            "Parâmetro : 150 Epocas:  100 MSE: 0.7044532647399964 ALFA: 32.776183559752255 Acurácia: 0.32\n",
            "Parâmetro : 150 Epocas:  200 MSE: 0.5764895117818409 ALFA: 19.483938479998486 Acurácia: 0.43\n",
            "Parâmetro : 150 Epocas:  300 MSE: 0.49276110062718875 ALFA: 94.16830021905247 Acurácia: 0.51\n",
            "Parâmetro : 150 Epocas:  400 MSE: 0.449220221204481 ALFA: 210.1175696194703 Acurácia: 0.55\n",
            "Parâmetro : 150 Epocas:  500 MSE: 0.39663501532514334 ALFA: 1141.0450935529457 Acurácia: 0.6\n",
            "Parâmetro : 150 Epocas:  600 MSE: 0.379365245268344 ALFA: 132.55706978694315 Acurácia: 0.62\n",
            "Parâmetro : 150 Epocas:  700 MSE: 0.3288598676953171 ALFA: 93.2253872663624 Acurácia: 0.68\n",
            "Parâmetro : 150 Epocas:  800 MSE: 0.29643200026721994 ALFA: 20436.678820712244 Acurácia: 0.7\n",
            "Parâmetro : 150 Epocas:  900 MSE: 0.2607147665236186 ALFA: 2161500.5517211687 Acurácia: 0.74\n",
            "Parâmetro : 150 Epocas:  1000 MSE: 0.24285776858420094 ALFA: 33314.915457765164 Acurácia: 0.76\n",
            "Parâmetro : 150 Epocas:  1100 MSE: 0.2121632030147829 ALFA: 63.502955147469706 Acurácia: 0.79\n",
            "Parâmetro : 150 Epocas:  1200 MSE: 0.2071429166555375 ALFA: 2480337.596697722 Acurácia: 0.79\n",
            "Parâmetro : 150 Epocas:  1300 MSE: 0.18477699426807442 ALFA: 88.54515170530075 Acurácia: 0.82\n",
            "Parâmetro : 150 Epocas:  1400 MSE: 0.1785714298992544 ALFA: 121701681.22386774 Acurácia: 0.82\n",
            "Parâmetro : 150 Epocas:  1500 MSE: 0.15360385238319185 ALFA: 255.53514865470908 Acurácia: 0.85\n",
            "Parâmetro : 150 Epocas:  1600 MSE: 0.13134515421295342 ALFA: 22.088712524936938 Acurácia: 0.88\n",
            "Parâmetro : 150 Epocas:  1700 MSE: 0.12500000000384148 ALFA: 12375687364.273808 Acurácia: 0.88\n",
            "Parâmetro : 150 Epocas:  1800 MSE: 0.10362055658334511 ALFA: 350.1512404583717 Acurácia: 0.9\n",
            "Parâmetro : 150 Epocas:  1900 MSE: 0.10000000000065981 ALFA: 768234955078.595 Acurácia: 0.9\n",
            "Parâmetro : 150 Epocas:  2000 MSE: 0.10000000000004047 ALFA: 10212307709777.117 Acurácia: 0.9\n",
            "Parâmetro : 150 Epocas:  2100 MSE: 0.09285714300356471 ALFA: 129002230.10953891 Acurácia: 0.91\n",
            "Parâmetro : 150 Epocas:  2200 MSE: 0.08928571428571501 ALFA: 78141948191973.9 Acurácia: 0.91\n",
            "Parâmetro : 150 Epocas:  2300 MSE: 0.07500000023553195 ALFA: 52986774.12032387 Acurácia: 0.92\n",
            "Parâmetro : 150 Epocas:  2400 MSE: 0.07500000000000093 ALFA: 1277189762420568.0 Acurácia: 0.92\n",
            "Parâmetro : 150 Epocas:  2500 MSE: 0.05714285714164104 ALFA: 1962528232335.3472 Acurácia: 0.94\n",
            "Parâmetro : 150 Epocas:  2600 MSE: 0.053571428571428784 ALFA: 235837746195759.0 Acurácia: 0.95\n",
            "Acurácia do Teste LBP: 0.43\n"
          ]
        }
      ]
    },
    {
      "cell_type": "markdown",
      "source": [
        "## HOG"
      ],
      "metadata": {
        "id": "Jg3E2DMAj6w1"
      }
    },
    {
      "cell_type": "code",
      "source": [
        "#Normalização Z-score\n",
        "scaler = StandardScaler()\n",
        "scaler.fit(image_hog)\n",
        "x_scaler = scaler.transform(image_hog)"
      ],
      "metadata": {
        "id": "xybxk0QEnuVc"
      },
      "execution_count": 96,
      "outputs": []
    },
    {
      "cell_type": "code",
      "source": [
        "pca = PCA(n_components=50, random_state=42)\n",
        "pca.fit(x_scaler)\n",
        "X_pca = pca.transform(x_scaler)"
      ],
      "metadata": {
        "id": "38kFkTgN-nE0"
      },
      "execution_count": 97,
      "outputs": []
    },
    {
      "cell_type": "code",
      "source": [
        "#Normalização Z-score\n",
        "scaler = StandardScaler()\n",
        "scaler.fit(X_pca)\n",
        "X_pca = scaler.transform(X_pca)"
      ],
      "metadata": {
        "id": "26Y4j2IC-nIG"
      },
      "execution_count": 98,
      "outputs": []
    },
    {
      "cell_type": "code",
      "source": [
        "x_train, x_test, y_train, y_test = train_test_split(X_pca, target, test_size=0.30, random_state=42,stratify=target)"
      ],
      "metadata": {
        "id": "mOv2toD_-nNM"
      },
      "execution_count": 99,
      "outputs": []
    },
    {
      "cell_type": "code",
      "source": [
        "x_train.shape, y_train.shape, x_test.shape, y_test.shape"
      ],
      "metadata": {
        "colab": {
          "base_uri": "https://localhost:8080/"
        },
        "id": "4ygS9Nkr-nQ-",
        "outputId": "1b47152b-336e-47fd-f85e-d2455d23d444"
      },
      "execution_count": 100,
      "outputs": [
        {
          "output_type": "execute_result",
          "data": {
            "text/plain": [
              "((280, 50), (280, 40), (120, 50), (120, 40))"
            ]
          },
          "metadata": {},
          "execution_count": 100
        }
      ]
    },
    {
      "cell_type": "code",
      "source": [
        "# Treino com melhor Parâmetro \n",
        "A, B = rna(x_train, y_train, 100, epoca=3000)\n",
        "\n",
        "#Teste \n",
        "x_test_one = np.column_stack((x_test,np.ones(x_test.shape[0])))\n",
        "Y = calculo_saida(x_test_one, A, B, x_test.shape[0])\n",
        "print(\"Acurácia do Teste HOG:\",round(accuracy_score(preditor_sigmoide(Y), preditor_sigmoide(y_test)),2))"
      ],
      "metadata": {
        "colab": {
          "base_uri": "https://localhost:8080/"
        },
        "id": "G4LscGSW-nVg",
        "outputId": "bc7fc748-e0cc-48a3-9901-3e18525f2513"
      },
      "execution_count": 102,
      "outputs": [
        {
          "output_type": "stream",
          "name": "stdout",
          "text": [
            "Parâmetro : 100 Epocas:  100 MSE: 0.4179872295271163 ALFA: 125.3837255648919 Acurácia: 0.61\n",
            "Parâmetro : 100 Epocas:  200 MSE: 0.3630697155770572 ALFA: 455.543800039418 Acurácia: 0.65\n",
            "Parâmetro : 100 Epocas:  300 MSE: 0.33109026177060386 ALFA: 22206.41698822943 Acurácia: 0.67\n",
            "Parâmetro : 100 Epocas:  400 MSE: 0.3036533289444122 ALFA: 7671.983767672762 Acurácia: 0.71\n",
            "Parâmetro : 100 Epocas:  500 MSE: 0.27149957259290525 ALFA: 2833.559348935952 Acurácia: 0.73\n",
            "Parâmetro : 100 Epocas:  600 MSE: 0.23285744786345225 ALFA: 20.611530676081472 Acurácia: 0.77\n",
            "Parâmetro : 100 Epocas:  700 MSE: 0.19440023329235875 ALFA: 183.95163500426094 Acurácia: 0.81\n",
            "Parâmetro : 100 Epocas:  800 MSE: 0.18571581933711553 ALFA: 255819.27141928067 Acurácia: 0.81\n",
            "Parâmetro : 100 Epocas:  900 MSE: 0.1608608900048361 ALFA: 1661.3354460758783 Acurácia: 0.84\n",
            "Parâmetro : 100 Epocas:  1000 MSE: 0.16071433418845144 ALFA: 24812856.147390112 Acurácia: 0.84\n",
            "Parâmetro : 100 Epocas:  1100 MSE: 0.1464285908674316 ALFA: 40619931.687649965 Acurácia: 0.85\n",
            "Parâmetro : 100 Epocas:  1200 MSE: 0.14642857396513204 ALFA: 570275558.0344422 Acurácia: 0.85\n",
            "Parâmetro : 100 Epocas:  1300 MSE: 0.1357142859669849 ALFA: 392738154.5866059 Acurácia: 0.86\n",
            "Parâmetro : 100 Epocas:  1400 MSE: 0.12142857160914941 ALFA: 3120355387.962743 Acurácia: 0.88\n",
            "Parâmetro : 100 Epocas:  1500 MSE: 0.11785714286810138 ALFA: 16471476014.527004 Acurácia: 0.88\n",
            "Parâmetro : 100 Epocas:  1600 MSE: 0.1178571428599899 ALFA: 87707078795.71518 Acurácia: 0.88\n",
            "Parâmetro : 100 Epocas:  1700 MSE: 0.114285714300929 ALFA: 479155955.5690607 Acurácia: 0.89\n",
            "Parâmetro : 100 Epocas:  1800 MSE: 0.11428571428581191 ALFA: 2467598868618.4795 Acurácia: 0.89\n",
            "Parâmetro : 100 Epocas:  1900 MSE: 0.09324344368880937 ALFA: 54.777160234274945 Acurácia: 0.91\n",
            "Parâmetro : 100 Epocas:  2000 MSE: 0.09285714285714765 ALFA: 56146485069871.22 Acurácia: 0.91\n",
            "Parâmetro : 100 Epocas:  2100 MSE: 0.07857142857143133 ALFA: 15681508556049.926 Acurácia: 0.92\n",
            "Parâmetro : 100 Epocas:  2200 MSE: 0.07857142857142861 ALFA: 3424790232251049.0 Acurácia: 0.92\n",
            "Acurácia do Teste HOG: 0.82\n"
          ]
        }
      ]
    },
    {
      "cell_type": "code",
      "source": [],
      "metadata": {
        "id": "y82IolhpnuqC"
      },
      "execution_count": null,
      "outputs": []
    },
    {
      "cell_type": "code",
      "source": [],
      "metadata": {
        "id": "CmpRv8zUnu0w"
      },
      "execution_count": null,
      "outputs": []
    }
  ],
  "metadata": {
    "colab": {
      "provenance": [],
      "machine_shape": "hm",
      "include_colab_link": true
    },
    "kernelspec": {
      "display_name": "Python 3",
      "language": "python",
      "name": "python3"
    },
    "language_info": {
      "codemirror_mode": {
        "name": "ipython",
        "version": 3
      },
      "file_extension": ".py",
      "mimetype": "text/x-python",
      "name": "python",
      "nbconvert_exporter": "python",
      "pygments_lexer": "ipython3",
      "version": "3.7.10"
    },
    "varInspector": {
      "cols": {
        "lenName": 16,
        "lenType": 16,
        "lenVar": 40
      },
      "kernels_config": {
        "python": {
          "delete_cmd_postfix": "",
          "delete_cmd_prefix": "del ",
          "library": "var_list.py",
          "varRefreshCmd": "print(var_dic_list())"
        },
        "r": {
          "delete_cmd_postfix": ") ",
          "delete_cmd_prefix": "rm(",
          "library": "var_list.r",
          "varRefreshCmd": "cat(var_dic_list()) "
        }
      },
      "types_to_exclude": [
        "module",
        "function",
        "builtin_function_or_method",
        "instance",
        "_Feature"
      ],
      "window_display": false
    },
    "accelerator": "GPU",
    "gpuClass": "standard"
  },
  "nbformat": 4,
  "nbformat_minor": 0
}